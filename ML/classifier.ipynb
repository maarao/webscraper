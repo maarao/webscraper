{
 "cells": [
  {
   "cell_type": "code",
   "execution_count": 204,
   "metadata": {},
   "outputs": [
    {
     "name": "stderr",
     "output_type": "stream",
     "text": [
      "[nltk_data] Downloading package stopwords to\n",
      "[nltk_data]     C:\\Users\\simon\\AppData\\Roaming\\nltk_data...\n",
      "[nltk_data]   Package stopwords is already up-to-date!\n",
      "[nltk_data] Downloading package wordnet to\n",
      "[nltk_data]     C:\\Users\\simon\\AppData\\Roaming\\nltk_data...\n",
      "[nltk_data]   Package wordnet is already up-to-date!\n",
      "[nltk_data] Downloading package omw-1.4 to\n",
      "[nltk_data]     C:\\Users\\simon\\AppData\\Roaming\\nltk_data...\n",
      "[nltk_data]   Package omw-1.4 is already up-to-date!\n"
     ]
    }
   ],
   "source": [
    "import pandas as pd\n",
    "import matplotlib.pyplot as plt\n",
    "import cufflinks as cf\n",
    "import plotly\n",
    "import plotly.express as px\n",
    "import seaborn as sns\n",
    "\n",
    "import nltk\n",
    "import nltk.stem\n",
    "import nltk.corpus \n",
    "from nltk.corpus import stopwords\n",
    "nltk.download('stopwords')\n",
    "nltk.download('wordnet')\n",
    "nltk.download('omw-1.4')\n",
    "\n",
    "from IPython.core.display import HTML\n",
    "from wordcloud import WordCloud\n",
    "from sklearn.feature_extraction import text\n",
    "from sklearn.feature_extraction.text import TfidfVectorizer\n",
    "from sklearn.model_selection import train_test_split\n",
    "from sklearn import metrics\n",
    "from sklearn.ensemble import RandomForestClassifier, AdaBoostClassifier\n",
    "from sklearn.tree import DecisionTreeClassifier\n",
    "from datetime import datetime\n",
    "from sklearn.feature_extraction.text import CountVectorizer\n",
    "from pandas import DataFrame\n",
    "from collections import OrderedDict \n",
    "from colorama import Fore, Back, Style\n",
    "y_ = Fore.YELLOW\n",
    "r_ = Fore.RED\n",
    "g_ = Fore.GREEN\n",
    "b_ = Fore.BLUE\n",
    "m_ = Fore.MAGENTA\n",
    "sr_ = Style.RESET_ALL"
   ]
  },
  {
   "cell_type": "code",
   "execution_count": 205,
   "metadata": {},
   "outputs": [
    {
     "data": {
      "text/plain": [
       "published                  2045\n",
       "title                      2045\n",
       "text                       2045\n",
       "language                   2045\n",
       "site_url                   2045\n",
       "main_img_url               2045\n",
       "type                       2045\n",
       "label                      2045\n",
       "title_without_stopwords    2045\n",
       "text_without_stopwords     2045\n",
       "hasImage                   2045\n",
       "dtype: int64"
      ]
     },
     "execution_count": 205,
     "metadata": {},
     "output_type": "execute_result"
    }
   ],
   "source": [
    "df = pd.read_csv(r'./data/news_articles.csv', encoding=\"latin\", index_col=0)\n",
    "df = df.dropna()\n",
    "df.count()"
   ]
  },
  {
   "cell_type": "code",
   "execution_count": 206,
   "metadata": {},
   "outputs": [
    {
     "data": {
      "text/plain": [
       "array(['bias', 'conspiracy', 'fake', 'bs', 'satire', 'hate', 'junksci',\n",
       "       'state'], dtype=object)"
      ]
     },
     "execution_count": 206,
     "metadata": {},
     "output_type": "execute_result"
    }
   ],
   "source": [
    "df['type'].unique()"
   ]
  },
  {
   "cell_type": "code",
   "execution_count": 207,
   "metadata": {},
   "outputs": [
    {
     "data": {
      "text/html": [
       "        <script type=\"text/javascript\">\n",
       "        window.PlotlyConfig = {MathJaxConfig: 'local'};\n",
       "        if (window.MathJax && window.MathJax.Hub && window.MathJax.Hub.Config) {window.MathJax.Hub.Config({SVG: {font: \"STIX-Web\"}});}\n",
       "        if (typeof require !== 'undefined') {\n",
       "        require.undef(\"plotly\");\n",
       "        requirejs.config({\n",
       "            paths: {\n",
       "                'plotly': ['https://cdn.plot.ly/plotly-2.12.1.min']\n",
       "            }\n",
       "        });\n",
       "        require(['plotly'], function(Plotly) {\n",
       "            window._Plotly = Plotly;\n",
       "        });\n",
       "        }\n",
       "        </script>\n",
       "        "
      ]
     },
     "metadata": {},
     "output_type": "display_data"
    }
   ],
   "source": [
    "cf.go_offline()\n",
    "cf.set_config_file(offline=False, world_readable=True)\n"
   ]
  },
  {
   "cell_type": "markdown",
   "metadata": {},
   "source": [
    "### **Required**\n",
    "#### Run One time"
   ]
  },
  {
   "cell_type": "code",
   "execution_count": 208,
   "metadata": {},
   "outputs": [],
   "source": [
    "type1 = {'bias': 0, 'conspiracy': 1,'fake': 2,'bs': 3,'satire': 4, 'hate': 5,'junksci': 6, 'state': 7}\n",
    "df.type = [type1[item] for item in df.type] "
   ]
  },
  {
   "cell_type": "code",
   "execution_count": 209,
   "metadata": {},
   "outputs": [],
   "source": [
    "def plot_bar(df, feat_x, feat_y, normalize=True):\n",
    "    \"\"\" Plot with vertical bars of the requested dataframe and features\"\"\"\n",
    "    \n",
    "    ct = pd.crosstab(df[feat_x], df[feat_y])\n",
    "    if normalize == True:\n",
    "        ct = ct.div(ct.sum(axis=1), axis=0)\n",
    "    return ct.plot(kind='bar', stacked=True)"
   ]
  },
  {
   "cell_type": "code",
   "execution_count": 210,
   "metadata": {},
   "outputs": [
    {
     "data": {
      "image/png": "[encoded data removed]",
      "text/plain": [
       "<Figure size 640x480 with 1 Axes>"
      ]
     },
     "metadata": {},
     "output_type": "display_data"
    }
   ],
   "source": [
    "plot_bar(df,'type' , 'label')\n",
    "plt.show()"
   ]
  },
  {
   "cell_type": "markdown",
   "metadata": {},
   "source": [
    "### **Required**"
   ]
  },
  {
   "cell_type": "code",
   "execution_count": 211,
   "metadata": {},
   "outputs": [
    {
     "data": {
      "text/html": [
       "<div>\n",
       "<style scoped>\n",
       "    .dataframe tbody tr th:only-of-type {\n",
       "        vertical-align: middle;\n",
       "    }\n",
       "\n",
       "    .dataframe tbody tr th {\n",
       "        vertical-align: top;\n",
       "    }\n",
       "\n",
       "    .dataframe thead th {\n",
       "        text-align: right;\n",
       "    }\n",
       "</style>\n",
       "<table border=\"1\" class=\"dataframe\">\n",
       "  <thead>\n",
       "    <tr style=\"text-align: right;\">\n",
       "      <th></th>\n",
       "      <th>published</th>\n",
       "      <th>title</th>\n",
       "      <th>text</th>\n",
       "      <th>language</th>\n",
       "      <th>site_url</th>\n",
       "      <th>main_img_url</th>\n",
       "      <th>type</th>\n",
       "      <th>label</th>\n",
       "      <th>title_without_stopwords</th>\n",
       "      <th>text_without_stopwords</th>\n",
       "      <th>hasImage</th>\n",
       "    </tr>\n",
       "    <tr>\n",
       "      <th>author</th>\n",
       "      <th></th>\n",
       "      <th></th>\n",
       "      <th></th>\n",
       "      <th></th>\n",
       "      <th></th>\n",
       "      <th></th>\n",
       "      <th></th>\n",
       "      <th></th>\n",
       "      <th></th>\n",
       "      <th></th>\n",
       "      <th></th>\n",
       "    </tr>\n",
       "  </thead>\n",
       "  <tbody>\n",
       "    <tr>\n",
       "      <th>Daniel Greenfield</th>\n",
       "      <td>2016-11-01T23:56:39.599+02:00</td>\n",
       "      <td>hillary already planning fireworks for victory...</td>\n",
       "      <td>lloyd billingsley \\npresidential debates betwe...</td>\n",
       "      <td>english</td>\n",
       "      <td>frontpagemag.com</td>\n",
       "      <td>http://www.frontpagemag.com/sites/default/file...</td>\n",
       "      <td>5</td>\n",
       "      <td>Real</td>\n",
       "      <td>james comey change outcome election</td>\n",
       "      <td>netanyahus critical foreign tour israels strat...</td>\n",
       "      <td>1.0</td>\n",
       "    </tr>\n",
       "    <tr>\n",
       "      <th>No Author</th>\n",
       "      <td>2016-11-08T16:05:09.711+02:00</td>\n",
       "      <td>video women on the street explain why they hat...</td>\n",
       "      <td>donna brazile the corrupt head of the democrat...</td>\n",
       "      <td>english</td>\n",
       "      <td>dailywire.com</td>\n",
       "      <td>http://www.dailywire.com/sites/default/files/s...</td>\n",
       "      <td>0</td>\n",
       "      <td>Real</td>\n",
       "      <td>video women street explain hate hillary daily ...</td>\n",
       "      <td>donna brazile corrupt head democratic national...</td>\n",
       "      <td>1.0</td>\n",
       "    </tr>\n",
       "    <tr>\n",
       "      <th>Buck Rogers</th>\n",
       "      <td>2016-10-27T17:51:10.531+03:00</td>\n",
       "      <td>comment on gold medalist wrestler gets violent...</td>\n",
       "      <td>this proves that even though the power elites ...</td>\n",
       "      <td>english</td>\n",
       "      <td>thefreethoughtproject.com</td>\n",
       "      <td>http://thefreethoughtproject.com/wp-content/up...</td>\n",
       "      <td>3</td>\n",
       "      <td>Fake</td>\n",
       "      <td>hillary entire obama administration exposed us...</td>\n",
       "      <td>agreed</td>\n",
       "      <td>1.0</td>\n",
       "    </tr>\n",
       "    <tr>\n",
       "      <th>Isabelle Z.</th>\n",
       "      <td>2016-10-27T11:36:36.145+03:00</td>\n",
       "      <td>std infection rates reach alltime high in the ...</td>\n",
       "      <td>scandal epa could have issued an emergency ord...</td>\n",
       "      <td>english</td>\n",
       "      <td>naturalnews.com</td>\n",
       "      <td>http://www.naturalnews.com/gallery/640/Technol...</td>\n",
       "      <td>6</td>\n",
       "      <td>Fake</td>\n",
       "      <td>new video break cycle human complacency servitude</td>\n",
       "      <td>dilbert creator scott adams endorses trump say...</td>\n",
       "      <td>1.0</td>\n",
       "    </tr>\n",
       "    <tr>\n",
       "      <th>No Author</th>\n",
       "      <td>2016-11-05T01:09:27.580+02:00</td>\n",
       "      <td>life  steps to rolling the perfect joint</td>\n",
       "      <td>email \\nthe president has to be kicking himsel...</td>\n",
       "      <td>english</td>\n",
       "      <td>clickhole.com</td>\n",
       "      <td>http://images.onionstatic.com/clickhole/3440/7...</td>\n",
       "      <td>4</td>\n",
       "      <td>Fake</td>\n",
       "      <td>life steps rolling perfect joint</td>\n",
       "      <td>email president kicking one term office comes ...</td>\n",
       "      <td>1.0</td>\n",
       "    </tr>\n",
       "  </tbody>\n",
       "</table>\n",
       "</div>"
      ],
      "text/plain": [
       "                                       published  \\\n",
       "author                                             \n",
       "Daniel Greenfield  2016-11-01T23:56:39.599+02:00   \n",
       "No Author          2016-11-08T16:05:09.711+02:00   \n",
       "Buck Rogers        2016-10-27T17:51:10.531+03:00   \n",
       "Isabelle Z.        2016-10-27T11:36:36.145+03:00   \n",
       "No Author          2016-11-05T01:09:27.580+02:00   \n",
       "\n",
       "                                                               title  \\\n",
       "author                                                                 \n",
       "Daniel Greenfield  hillary already planning fireworks for victory...   \n",
       "No Author          video women on the street explain why they hat...   \n",
       "Buck Rogers        comment on gold medalist wrestler gets violent...   \n",
       "Isabelle Z.        std infection rates reach alltime high in the ...   \n",
       "No Author                   life  steps to rolling the perfect joint   \n",
       "\n",
       "                                                                text language  \\\n",
       "author                                                                          \n",
       "Daniel Greenfield  lloyd billingsley \\npresidential debates betwe...  english   \n",
       "No Author          donna brazile the corrupt head of the democrat...  english   \n",
       "Buck Rogers        this proves that even though the power elites ...  english   \n",
       "Isabelle Z.        scandal epa could have issued an emergency ord...  english   \n",
       "No Author          email \\nthe president has to be kicking himsel...  english   \n",
       "\n",
       "                                    site_url  \\\n",
       "author                                         \n",
       "Daniel Greenfield           frontpagemag.com   \n",
       "No Author                      dailywire.com   \n",
       "Buck Rogers        thefreethoughtproject.com   \n",
       "Isabelle Z.                  naturalnews.com   \n",
       "No Author                      clickhole.com   \n",
       "\n",
       "                                                        main_img_url  type  \\\n",
       "author                                                                       \n",
       "Daniel Greenfield  http://www.frontpagemag.com/sites/default/file...     5   \n",
       "No Author          http://www.dailywire.com/sites/default/files/s...     0   \n",
       "Buck Rogers        http://thefreethoughtproject.com/wp-content/up...     3   \n",
       "Isabelle Z.        http://www.naturalnews.com/gallery/640/Technol...     6   \n",
       "No Author          http://images.onionstatic.com/clickhole/3440/7...     4   \n",
       "\n",
       "                  label                            title_without_stopwords  \\\n",
       "author                                                                       \n",
       "Daniel Greenfield  Real                james comey change outcome election   \n",
       "No Author          Real  video women street explain hate hillary daily ...   \n",
       "Buck Rogers        Fake  hillary entire obama administration exposed us...   \n",
       "Isabelle Z.        Fake  new video break cycle human complacency servitude   \n",
       "No Author          Fake                   life steps rolling perfect joint   \n",
       "\n",
       "                                              text_without_stopwords  hasImage  \n",
       "author                                                                          \n",
       "Daniel Greenfield  netanyahus critical foreign tour israels strat...       1.0  \n",
       "No Author          donna brazile corrupt head democratic national...       1.0  \n",
       "Buck Rogers                                                   agreed       1.0  \n",
       "Isabelle Z.        dilbert creator scott adams endorses trump say...       1.0  \n",
       "No Author          email president kicking one term office comes ...       1.0  "
      ]
     },
     "execution_count": 211,
     "metadata": {},
     "output_type": "execute_result"
    }
   ],
   "source": [
    "df1 = df.sample(frac=1)\n",
    "df1.head()"
   ]
  },
  {
   "cell_type": "code",
   "execution_count": 303,
   "metadata": {},
   "outputs": [
    {
     "data": {
      "text/plain": [
       "author\n",
       "Daniel Greenfield                      Real\n",
       "No Author                              Real\n",
       "Buck Rogers                            Fake\n",
       "Isabelle Z.                            Fake\n",
       "No Author                              Fake\n",
       "                                       ... \n",
       "South Front                            Fake\n",
       "The angel of light                     Fake\n",
       "noreply@blogger.com (Der Postillon)    Fake\n",
       "Steve Watson                           Fake\n",
       "No Author                              Fake\n",
       "Name: label, Length: 2045, dtype: object"
      ]
     },
     "execution_count": 303,
     "metadata": {},
     "output_type": "execute_result"
    }
   ],
   "source": [
    "y = df1['label']\n",
    "x = df1.loc[:, ['site_url','text_without_stopwords']]\n",
    "x['source'] = x[\"text_without_stopwords\"]\n",
    "x = x.drop(['site_url', 'text_without_stopwords'], axis=1)\n",
    "x = x.source\n",
    "y"
   ]
  },
  {
   "cell_type": "code",
   "execution_count": 304,
   "metadata": {},
   "outputs": [
    {
     "name": "stdout",
     "output_type": "stream",
     "text": [
      "author\n",
      "EdJenner                         tuesday night scenario occurred four times ame...\n",
      "Nathaniel Mauka                  nanny jail force feeding baby death shares ike...\n",
      "Anonymous                        people time dont know fix corruption httpwwwfr...\n",
      "No Author                        email knowledge power put pork slice see makes...\n",
      "Daniel Greenfield                nigerian novelist wonders everyone loves hilla...\n",
      "                                                       ...                        \n",
      "No Author                        reply today pm part mother child worship https...\n",
      "admin                            merit taking cynical view life observations cy...\n",
      "David Gutierrez, staff writer    leaked email shows monsanto executive vp invit...\n",
      "Gillian                          rÃ©union du conseil de sÃ©curitÃ© du octobre d...\n",
      "Twain Yobra                      keywords alzhemiers disease anxiety dementia d...\n",
      "Name: source, Length: 614, dtype: object\n",
      "(1431, 37915)\n"
     ]
    }
   ],
   "source": [
    "x_train,x_test,y_train,y_test=train_test_split(x,y,test_size=0.30)\n",
    "tfidf_vect = TfidfVectorizer(stop_words = 'english')\n",
    "tfidf_train = tfidf_vect.fit_transform(x_train)\n",
    "tfidf_test = tfidf_vect.transform(x_test)\n",
    "\n",
    "print(x_test)\n",
    "print(tfidf_train.shape)"
   ]
  },
  {
   "cell_type": "code",
   "execution_count": 305,
   "metadata": {},
   "outputs": [
    {
     "data": {
      "text/plain": [
       "(1431, 37915)"
      ]
     },
     "execution_count": 305,
     "metadata": {},
     "output_type": "execute_result"
    }
   ],
   "source": [
    "tfidf_train.shape"
   ]
  },
  {
   "cell_type": "code",
   "execution_count": 306,
   "metadata": {},
   "outputs": [
    {
     "name": "stdout",
     "output_type": "stream",
     "text": [
      "accuracy: 0.682\n"
     ]
    }
   ],
   "source": [
    "Adab = AdaBoostClassifier(DecisionTreeClassifier(max_depth=10),n_estimators=5,random_state=1)\n",
    "Adab.fit(tfidf_train, y_train)\n",
    "y_pred3 = Adab.predict(tfidf_test)\n",
    "ABscore = metrics.accuracy_score(y_test,y_pred3)\n",
    "print(\"accuracy: %0.3f\" %ABscore)"
   ]
  },
  {
   "cell_type": "code",
   "execution_count": 307,
   "metadata": {},
   "outputs": [
    {
     "name": "stdout",
     "output_type": "stream",
     "text": [
      "accuracy:  0.757\n"
     ]
    }
   ],
   "source": [
    "Rando = RandomForestClassifier(n_estimators=100,random_state=0)\n",
    "Rando.fit(tfidf_train,y_train)\n",
    "y_pred1 = Rando.predict(tfidf_test)\n",
    "RFscore = metrics.accuracy_score(y_test,y_pred1)\n",
    "print(\"accuracy:  %0.3f\" %RFscore)\n"
   ]
  },
  {
   "cell_type": "code",
   "execution_count": 308,
   "metadata": {},
   "outputs": [
    {
     "data": {
      "text/plain": [
       "array(['Real', 'Fake', 'Fake', 'Fake', 'Real', 'Real', 'Real', 'Real',\n",
       "       'Fake', 'Real', 'Fake', 'Fake', 'Real', 'Real', 'Fake', 'Fake',\n",
       "       'Fake', 'Real', 'Fake', 'Fake', 'Fake', 'Real', 'Fake', 'Fake',\n",
       "       'Fake', 'Fake', 'Real', 'Real', 'Real', 'Fake', 'Real', 'Fake',\n",
       "       'Real', 'Fake', 'Fake', 'Fake', 'Real', 'Fake', 'Fake', 'Fake',\n",
       "       'Fake', 'Fake', 'Real', 'Fake', 'Real', 'Fake', 'Fake', 'Real',\n",
       "       'Real', 'Real', 'Fake', 'Fake', 'Fake', 'Fake', 'Fake', 'Fake',\n",
       "       'Fake', 'Fake', 'Real', 'Fake', 'Real', 'Fake', 'Fake', 'Fake',\n",
       "       'Fake', 'Fake', 'Fake', 'Fake', 'Fake', 'Real', 'Fake', 'Real',\n",
       "       'Fake', 'Fake', 'Fake', 'Real', 'Fake', 'Real', 'Fake', 'Real',\n",
       "       'Real', 'Fake', 'Fake', 'Fake', 'Real', 'Fake', 'Real', 'Real',\n",
       "       'Fake', 'Real', 'Fake', 'Real', 'Real', 'Real', 'Real', 'Fake',\n",
       "       'Real', 'Real', 'Real', 'Fake', 'Real', 'Real', 'Fake', 'Real',\n",
       "       'Real', 'Fake', 'Fake', 'Real', 'Fake', 'Fake', 'Real', 'Real',\n",
       "       'Real', 'Fake', 'Fake', 'Fake', 'Fake', 'Fake', 'Real', 'Fake',\n",
       "       'Fake', 'Real', 'Real', 'Fake', 'Real', 'Real', 'Fake', 'Fake',\n",
       "       'Fake', 'Fake', 'Fake', 'Real', 'Fake', 'Fake', 'Fake', 'Fake',\n",
       "       'Fake', 'Fake', 'Fake', 'Real', 'Fake', 'Fake', 'Real', 'Real',\n",
       "       'Fake', 'Fake', 'Fake', 'Real', 'Fake', 'Real', 'Real', 'Real',\n",
       "       'Fake', 'Fake', 'Real', 'Fake', 'Real', 'Real', 'Fake', 'Real',\n",
       "       'Fake', 'Fake', 'Fake', 'Fake', 'Fake', 'Real', 'Fake', 'Fake',\n",
       "       'Fake', 'Fake', 'Fake', 'Real', 'Real', 'Fake', 'Fake', 'Fake',\n",
       "       'Real', 'Fake', 'Fake', 'Fake', 'Fake', 'Real', 'Fake', 'Fake',\n",
       "       'Fake', 'Fake', 'Real', 'Fake', 'Fake', 'Real', 'Real', 'Fake',\n",
       "       'Fake', 'Fake', 'Fake', 'Fake', 'Fake', 'Fake', 'Fake', 'Fake',\n",
       "       'Fake', 'Fake', 'Fake', 'Real', 'Real', 'Real', 'Real', 'Real',\n",
       "       'Fake', 'Real', 'Fake', 'Fake', 'Real', 'Real', 'Real', 'Real',\n",
       "       'Fake', 'Fake', 'Fake', 'Fake', 'Fake', 'Real', 'Real', 'Fake',\n",
       "       'Fake', 'Fake', 'Fake', 'Fake', 'Fake', 'Fake', 'Real', 'Real',\n",
       "       'Fake', 'Fake', 'Fake', 'Fake', 'Real', 'Fake', 'Fake', 'Real',\n",
       "       'Fake', 'Fake', 'Fake', 'Fake', 'Fake', 'Fake', 'Fake', 'Fake',\n",
       "       'Real', 'Real', 'Fake', 'Fake', 'Real', 'Fake', 'Fake', 'Real',\n",
       "       'Fake', 'Fake', 'Fake', 'Real', 'Fake', 'Fake', 'Fake', 'Fake',\n",
       "       'Fake', 'Fake', 'Real', 'Fake', 'Fake', 'Fake', 'Real', 'Fake',\n",
       "       'Real', 'Real', 'Fake', 'Real', 'Fake', 'Fake', 'Real', 'Fake',\n",
       "       'Fake', 'Fake', 'Real', 'Fake', 'Fake', 'Fake', 'Fake', 'Fake',\n",
       "       'Fake', 'Fake', 'Fake', 'Real', 'Real', 'Fake', 'Fake', 'Real',\n",
       "       'Fake', 'Fake', 'Fake', 'Real', 'Real', 'Fake', 'Fake', 'Real',\n",
       "       'Fake', 'Real', 'Fake', 'Real', 'Real', 'Real', 'Fake', 'Fake',\n",
       "       'Fake', 'Fake', 'Real', 'Real', 'Fake', 'Fake', 'Real', 'Fake',\n",
       "       'Fake', 'Real', 'Real', 'Real', 'Real', 'Real', 'Fake', 'Real',\n",
       "       'Fake', 'Real', 'Real', 'Real', 'Fake', 'Real', 'Real', 'Fake',\n",
       "       'Fake', 'Fake', 'Fake', 'Fake', 'Fake', 'Real', 'Fake', 'Real',\n",
       "       'Fake', 'Fake', 'Fake', 'Fake', 'Fake', 'Real', 'Fake', 'Fake',\n",
       "       'Real', 'Fake', 'Fake', 'Fake', 'Real', 'Fake', 'Fake', 'Fake',\n",
       "       'Fake', 'Fake', 'Real', 'Fake', 'Fake', 'Fake', 'Real', 'Fake',\n",
       "       'Fake', 'Real', 'Fake', 'Real', 'Real', 'Fake', 'Real', 'Fake',\n",
       "       'Real', 'Real', 'Fake', 'Real', 'Fake', 'Fake', 'Fake', 'Fake',\n",
       "       'Fake', 'Fake', 'Fake', 'Fake', 'Fake', 'Fake', 'Real', 'Real',\n",
       "       'Fake', 'Real', 'Real', 'Fake', 'Fake', 'Fake', 'Fake', 'Fake',\n",
       "       'Fake', 'Fake', 'Fake', 'Fake', 'Fake', 'Real', 'Real', 'Fake',\n",
       "       'Real', 'Fake', 'Fake', 'Fake', 'Real', 'Fake', 'Fake', 'Fake',\n",
       "       'Fake', 'Fake', 'Fake', 'Fake', 'Fake', 'Fake', 'Real', 'Fake',\n",
       "       'Fake', 'Fake', 'Fake', 'Real', 'Fake', 'Fake', 'Fake', 'Fake',\n",
       "       'Real', 'Fake', 'Fake', 'Fake', 'Fake', 'Fake', 'Real', 'Fake',\n",
       "       'Real', 'Real', 'Fake', 'Fake', 'Fake', 'Fake', 'Real', 'Real',\n",
       "       'Real', 'Fake', 'Real', 'Fake', 'Fake', 'Fake', 'Fake', 'Real',\n",
       "       'Real', 'Fake', 'Real', 'Fake', 'Fake', 'Fake', 'Real', 'Fake',\n",
       "       'Real', 'Fake', 'Fake', 'Fake', 'Real', 'Fake', 'Fake', 'Fake',\n",
       "       'Fake', 'Real', 'Fake', 'Real', 'Fake', 'Fake', 'Fake', 'Fake',\n",
       "       'Fake', 'Real', 'Fake', 'Fake', 'Fake', 'Fake', 'Fake', 'Real',\n",
       "       'Fake', 'Fake', 'Real', 'Fake', 'Fake', 'Real', 'Real', 'Fake',\n",
       "       'Real', 'Fake', 'Fake', 'Fake', 'Fake', 'Fake', 'Fake', 'Fake',\n",
       "       'Real', 'Fake', 'Fake', 'Fake', 'Real', 'Real', 'Fake', 'Fake',\n",
       "       'Real', 'Fake', 'Fake', 'Real', 'Fake', 'Fake', 'Real', 'Fake',\n",
       "       'Fake', 'Fake', 'Fake', 'Fake', 'Fake', 'Fake', 'Fake', 'Fake',\n",
       "       'Real', 'Real', 'Fake', 'Fake', 'Fake', 'Fake', 'Fake', 'Fake',\n",
       "       'Fake', 'Real', 'Fake', 'Fake', 'Fake', 'Real', 'Real', 'Fake',\n",
       "       'Fake', 'Real', 'Fake', 'Fake', 'Fake', 'Fake', 'Fake', 'Real',\n",
       "       'Fake', 'Fake', 'Fake', 'Fake', 'Real', 'Fake', 'Fake', 'Fake',\n",
       "       'Fake', 'Fake', 'Real', 'Real', 'Real', 'Fake', 'Fake', 'Fake',\n",
       "       'Fake', 'Fake', 'Fake', 'Real', 'Real', 'Fake', 'Real', 'Real',\n",
       "       'Real', 'Fake', 'Real', 'Fake', 'Fake', 'Fake', 'Fake', 'Fake',\n",
       "       'Real', 'Fake', 'Real', 'Fake', 'Fake', 'Real', 'Real', 'Real',\n",
       "       'Real', 'Real', 'Fake', 'Fake', 'Real', 'Fake', 'Fake', 'Fake',\n",
       "       'Fake', 'Real', 'Fake', 'Fake', 'Real', 'Fake', 'Fake', 'Fake',\n",
       "       'Fake', 'Real', 'Fake', 'Fake', 'Fake', 'Fake'], dtype=object)"
      ]
     },
     "execution_count": 308,
     "metadata": {},
     "output_type": "execute_result"
    }
   ],
   "source": [
    "y_pred3"
   ]
  },
  {
   "cell_type": "code",
   "execution_count": 309,
   "metadata": {},
   "outputs": [
    {
     "name": "stderr",
     "output_type": "stream",
     "text": [
      "[nltk_data] Downloading package punkt to\n",
      "[nltk_data]     C:\\Users\\simon\\AppData\\Roaming\\nltk_data...\n",
      "[nltk_data]   Package punkt is already up-to-date!\n",
      "[nltk_data] Downloading package stopwords to\n",
      "[nltk_data]     C:\\Users\\simon\\AppData\\Roaming\\nltk_data...\n",
      "[nltk_data]   Package stopwords is already up-to-date!\n",
      "[nltk_data] Downloading package wordnet to\n",
      "[nltk_data]     C:\\Users\\simon\\AppData\\Roaming\\nltk_data...\n",
      "[nltk_data]   Package wordnet is already up-to-date!\n",
      "[nltk_data] Downloading package averaged_perceptron_tagger to\n",
      "[nltk_data]     C:\\Users\\simon\\AppData\\Roaming\\nltk_data...\n",
      "[nltk_data]   Package averaged_perceptron_tagger is already up-to-\n",
      "[nltk_data]       date!\n"
     ]
    },
    {
     "data": {
      "text/plain": [
       "True"
      ]
     },
     "execution_count": 309,
     "metadata": {},
     "output_type": "execute_result"
    }
   ],
   "source": [
    "import nltk\n",
    "from nltk.corpus import stopwords\n",
    "from nltk.stem import PorterStemmer, WordNetLemmatizer\n",
    "from nltk.tokenize import word_tokenize, sent_tokenize\n",
    "from nltk import pos_tag\n",
    "import string\n",
    "import re\n",
    "\n",
    "nltk.download('punkt')\n",
    "nltk.download('stopwords')\n",
    "nltk.download('wordnet')\n",
    "nltk.download('averaged_perceptron_tagger')\n"
   ]
  },
  {
   "cell_type": "code",
   "execution_count": 310,
   "metadata": {},
   "outputs": [],
   "source": [
    "def preprocess_text(text):\n",
    "\n",
    "    text = re.sub(r\"(@\\[A-Za-z0-9]+)|([^0-9A-Za-z \\t])|(\\w+:\\/\\/\\S+)|^rt|http.+?\", \"\", text)\n",
    "    # Tokenize the text into words\n",
    "    words = word_tokenize(text.lower())\n",
    "\n",
    "    words = [word for word in words if word not in string.punctuation]\n",
    "\n",
    "    # Remove stop words\n",
    "    stop_words = stopwords.words('english')\n",
    "    words = [word for word in text.split() if word not in (stop_words)]\n",
    "    words = \" \".join([word for word in words if word.isalpha()]).lower()    \n",
    "    \n",
    "    return words\n"
   ]
  },
  {
   "cell_type": "code",
   "execution_count": 312,
   "metadata": {},
   "outputs": [
    {
     "name": "stdout",
     "output_type": "stream",
     "text": [
      "['the daily wire exclusively obtained newsletter office joe bidens national intelligence director joe biden hes sometimes called the big guy course rhododendron currently running free world behalf chinese fair since theyve paid bundle bribes his director national intelligence avril haines whose pronouns wang tsi co mao soy fang fang chu served cia director john brennan communist president barack obama antiamerican globalist', 'but worry confirmation hearing dni fang fang reassured congress areas wanted cooperate chinese like collecting the big guys money depositing one twenty shell companies plausible deniability hes handing border mexican cartels kill americans fentanyl launder profits chinese mafia inside us', 'what i talking oh yeah', 'according the daily wires crack investigative reporter spencer crack dni fang fangs office puts newsletter called the dive dive guides fbi cia nsa matters diversity equity inclusion dei intelligence officers better keep america free untraceable banking chinese bribes', 'according dni fang fangs newsletter american intelligence officers reporting terrorist threats stop describing im making stop describing terrorists phrases may hurtful muslimamericans', 'now daily wires crack reporter crack also obtained secret files describe reallife incident dnis dei dive helped cia fbi nsa perform duties', 'recently one top cia agents wong fu chi received warning young iranian man blow wall street shouting allahu akbar thereby potentially damaging banking system preventing president big guy collecting money china secreting one twenty shell companies though dead night agent wong quickly called dni fang fang sleeping congressman eric swalwells house report the big guys cash facing jihadist threat dni fang fang immediately dropped riding crop leapt bed instructed agent wong refile report first removing word jihadist might offend muslimamericans dutifully starting agent wong said a young man foreign nation intends destroy world order hasten arrival twelfth imam sorry i say twelfth nondenominational clergyman named mohammed almahdi maybe bob almahdi lets call pastor bob unfortunately point agent wongs report interrupted shout allahu akbar followed tremendous explosion', 'in another helpful edition dnis dei dive fbi cia nsa newsletter tells touching story american intelligence officer says god witness real quote dni newsletter i intelligence officer i man likes wear womens clothes sometimes my gender identity expression make better intelligence officer', 'the officer goes explain crossdressing makes intelligence work incisive also becoming pink chiffon mini sundress naughty nice sweetheart neckline thats simply perfect reporting young foreignborn males want hasten coming twelfth nondenominational clergyman pastor bob but point article interrupted shout allahu akbar followed tremendous explosion', 'so see rest easy night knowing congressman swalwells mistress dni fang fang crossdressing communist cia agent keeping watch make sure one uses offensive language president big guy paid china money make laundering profits mexican gangsters collect killing americans', 'all said ill begin satire', '', 'andrew klavan host the andrew klavan show the daily wire he bestselling author cameron winter mystery series the third installment the house love death available follow x andrewklavan', 'this excerpt taken opening satirical monologue the andrew klavan show', 'the views expressed satirical article author necessarily represent the daily wire', 'your information could missing piece important story submit tip today make difference']\n"
     ]
    }
   ],
   "source": [
    "import requests\n",
    "from bs4 import BeautifulSoup\n",
    "from urllib.parse import urlparse\n",
    "\n",
    "URL = \"https://www.dailywire.com/news/hanging-with-president-big-guy-and-his-national-intelligence-leaders\"\n",
    "page = requests.get(URL)\n",
    "soup = BeautifulSoup(page.content, 'html.parser')\n",
    "\n",
    "text = []\n",
    "parsed_url = urlparse(URL).netloc\n",
    "base_url = parsed_url[4:]\n",
    "\n",
    "# Find all <p> elements and print their text\n",
    "for paragraph in soup.find_all('p'):\n",
    "    text.append(preprocess_text(paragraph.get_text()))\n",
    "\n",
    "# final = \"bbc.com \" + processed_text\n",
    "print(text)\n",
    "\n"
   ]
  },
  {
   "cell_type": "code",
   "execution_count": 313,
   "metadata": {},
   "outputs": [
    {
     "name": "stdout",
     "output_type": "stream",
     "text": [
      "  (0, 36999)\t0.0658412014170466\n",
      "  (0, 36823)\t0.13865021759483456\n",
      "  (0, 36154)\t0.2010783401736613\n",
      "  (0, 33455)\t0.12221496105049949\n",
      "  (0, 31187)\t0.2010783401736613\n",
      "  (0, 29918)\t0.11670221455158339\n",
      "  (0, 28779)\t0.09468516173914826\n",
      "  (0, 26183)\t0.2010783401736613\n",
      "  (0, 25787)\t0.06350394932767822\n",
      "  (0, 23986)\t0.10557106200775922\n",
      "  (0, 23238)\t0.08507115446198574\n",
      "  (0, 23149)\t0.127467159616519\n",
      "  (0, 23048)\t0.07751745539718523\n",
      "  (0, 22460)\t0.1121396553122886\n",
      "  (0, 22116)\t0.15208419378821758\n",
      "  (0, 20195)\t0.18267554503437572\n",
      "  (0, 17808)\t0.08716826686847365\n",
      "  (0, 17795)\t0.23683137569228144\n",
      "  (0, 17030)\t0.21187453897329553\n",
      "  (0, 15183)\t0.09193619592557956\n",
      "  (0, 14486)\t0.11457711097614957\n",
      "  (0, 13898)\t0.14274285976521892\n",
      "  (0, 12985)\t0.08102656591790701\n",
      "  (0, 11869)\t0.36535109006875144\n",
      "  (0, 11770)\t0.11783215619647816\n",
      "  :\t:\n",
      "  (13, 32881)\t0.2329707099944617\n",
      "  (13, 29121)\t0.5225698290256412\n",
      "  (13, 23442)\t0.35405243133279\n",
      "  (13, 21504)\t0.5225698290256412\n",
      "  (13, 11343)\t0.39341896418976535\n",
      "  (13, 1344)\t0.3455930993988343\n",
      "  (14, 36823)\t0.35587323090992656\n",
      "  (14, 35805)\t0.3009740178301987\n",
      "  (14, 29121)\t0.5161073658947655\n",
      "  (14, 27856)\t0.3362691766912204\n",
      "  (14, 22245)\t0.3788020839788545\n",
      "  (14, 11578)\t0.3070353317091763\n",
      "  (14, 7818)\t0.23377403479990688\n",
      "  (14, 2469)\t0.25670288786883483\n",
      "  (14, 2027)\t0.21217145439040144\n",
      "  (15, 33768)\t0.21004710871442786\n",
      "  (15, 33713)\t0.42680227732144316\n",
      "  (15, 32238)\t0.4384928512062321\n",
      "  (15, 31991)\t0.25382019344762363\n",
      "  (15, 24894)\t0.34348504417135906\n",
      "  (15, 21265)\t0.3690026322015152\n",
      "  (15, 20003)\t0.18714957851372624\n",
      "  (15, 16741)\t0.24110847313561792\n",
      "  (15, 16385)\t0.24205057983304631\n",
      "  (15, 8931)\t0.33335820844695563\n"
     ]
    }
   ],
   "source": [
    "x_train,x_test,y_train,y_test=train_test_split(x,y,test_size=0.30)\n",
    "\n",
    "tfidf_vect = TfidfVectorizer(stop_words = 'english')\n",
    "tfidf_train = tfidf_vect.fit_transform(x_train)\n",
    "tfidf_test = tfidf_vect.transform(text)\n",
    "print(tfidf_test)"
   ]
  },
  {
   "cell_type": "code",
   "execution_count": 318,
   "metadata": {},
   "outputs": [],
   "source": [
    "Adab = AdaBoostClassifier(DecisionTreeClassifier(max_depth=100),n_estimators=5,random_state=1)\n",
    "Adab.fit(tfidf_train, y_train)\n",
    "y_pred3 = Adab.predict(tfidf_test)\n",
    "#ABscore = metrics.accuracy_score(y_test,y_pred3)\n",
    "#print(\"accuracy: %0.3f\" %ABscore)"
   ]
  },
  {
   "cell_type": "code",
   "execution_count": 319,
   "metadata": {},
   "outputs": [
    {
     "data": {
      "text/plain": [
       "array(['Real', 'Fake', 'Real', 'Fake', 'Fake', 'Fake', 'Fake', 'Real',\n",
       "       'Real', 'Fake', 'Fake', 'Fake', 'Fake', 'Fake', 'Real', 'Fake'],\n",
       "      dtype=object)"
      ]
     },
     "execution_count": 319,
     "metadata": {},
     "output_type": "execute_result"
    }
   ],
   "source": [
    "y_pred3"
   ]
  },
  {
   "cell_type": "code",
   "execution_count": 320,
   "metadata": {},
   "outputs": [],
   "source": [
    "Rando = RandomForestClassifier(n_estimators=1,random_state=1)\n",
    "Rando.fit(tfidf_train,y_train)\n",
    "y_pred1 = Rando.predict(tfidf_test)"
   ]
  },
  {
   "cell_type": "code",
   "execution_count": 321,
   "metadata": {},
   "outputs": [
    {
     "data": {
      "text/plain": [
       "array(['Real', 'Real', 'Real', 'Real', 'Fake', 'Real', 'Fake', 'Real',\n",
       "       'Real', 'Fake', 'Fake', 'Real', 'Real', 'Real', 'Fake', 'Real'],\n",
       "      dtype=object)"
      ]
     },
     "execution_count": 321,
     "metadata": {},
     "output_type": "execute_result"
    }
   ],
   "source": [
    "y_pred1"
   ]
  },
  {
   "cell_type": "code",
   "execution_count": null,
   "metadata": {},
   "outputs": [],
   "source": []
  }
 ],
 "metadata": {
  "kernelspec": {
   "display_name": "base",
   "language": "python",
   "name": "python3"
  },
  "language_info": {
   "codemirror_mode": {
    "name": "ipython",
    "version": 3
   },
   "file_extension": ".py",
   "mimetype": "text/x-python",
   "name": "python",
   "nbconvert_exporter": "python",
   "pygments_lexer": "ipython3",
   "version": "3.11.5"
  }
 },
 "nbformat": 4,
 "nbformat_minor": 2
}
