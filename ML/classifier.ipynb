{
 "cells": [
  {
   "cell_type": "code",
   "execution_count": 204,
   "metadata": {},
   "outputs": [
    {
     "name": "stderr",
     "output_type": "stream",
     "text": [
      "[nltk_data] Downloading package stopwords to\n",
      "[nltk_data]     C:\\Users\\simon\\AppData\\Roaming\\nltk_data...\n",
      "[nltk_data]   Package stopwords is already up-to-date!\n",
      "[nltk_data] Downloading package wordnet to\n",
      "[nltk_data]     C:\\Users\\simon\\AppData\\Roaming\\nltk_data...\n",
      "[nltk_data]   Package wordnet is already up-to-date!\n",
      "[nltk_data] Downloading package omw-1.4 to\n",
      "[nltk_data]     C:\\Users\\simon\\AppData\\Roaming\\nltk_data...\n",
      "[nltk_data]   Package omw-1.4 is already up-to-date!\n"
     ]
    }
   ],
   "source": [
    "import pandas as pd\n",
    "import matplotlib.pyplot as plt\n",
    "import cufflinks as cf\n",
    "import plotly\n",
    "import plotly.express as px\n",
    "import seaborn as sns\n",
    "\n",
    "import nltk\n",
    "import nltk.stem\n",
    "import nltk.corpus \n",
    "from nltk.corpus import stopwords\n",
    "nltk.download('stopwords')\n",
    "nltk.download('wordnet')\n",
    "nltk.download('omw-1.4')\n",
    "\n",
    "from IPython.core.display import HTML\n",
    "from wordcloud import WordCloud\n",
    "from sklearn.feature_extraction import text\n",
    "from sklearn.feature_extraction.text import TfidfVectorizer\n",
    "from sklearn.model_selection import train_test_split\n",
    "from sklearn import metrics\n",
    "from sklearn.ensemble import RandomForestClassifier, AdaBoostClassifier\n",
    "from sklearn.tree import DecisionTreeClassifier\n",
    "from datetime import datetime\n",
    "from sklearn.feature_extraction.text import CountVectorizer\n",
    "from pandas import DataFrame\n",
    "from collections import OrderedDict \n",
    "from colorama import Fore, Back, Style\n",
    "y_ = Fore.YELLOW\n",
    "r_ = Fore.RED\n",
    "g_ = Fore.GREEN\n",
    "b_ = Fore.BLUE\n",
    "m_ = Fore.MAGENTA\n",
    "sr_ = Style.RESET_ALL"
   ]
  },
  {
   "cell_type": "code",
   "execution_count": 205,
   "metadata": {},
   "outputs": [
    {
     "data": {
      "text/plain": [
       "published                  2045\n",
       "title                      2045\n",
       "text                       2045\n",
       "language                   2045\n",
       "site_url                   2045\n",
       "main_img_url               2045\n",
       "type                       2045\n",
       "label                      2045\n",
       "title_without_stopwords    2045\n",
       "text_without_stopwords     2045\n",
       "hasImage                   2045\n",
       "dtype: int64"
      ]
     },
     "execution_count": 205,
     "metadata": {},
     "output_type": "execute_result"
    }
   ],
   "source": [
    "df = pd.read_csv(r'./data/news_articles.csv', encoding=\"latin\", index_col=0)\n",
    "df = df.dropna()\n",
    "df.count()"
   ]
  },
  {
   "cell_type": "code",
   "execution_count": 206,
   "metadata": {},
   "outputs": [
    {
     "data": {
      "text/plain": [
       "array(['bias', 'conspiracy', 'fake', 'bs', 'satire', 'hate', 'junksci',\n",
       "       'state'], dtype=object)"
      ]
     },
     "execution_count": 206,
     "metadata": {},
     "output_type": "execute_result"
    }
   ],
   "source": [
    "df['type'].unique()"
   ]
  },
  {
   "cell_type": "code",
   "execution_count": 207,
   "metadata": {},
   "outputs": [
    {
     "data": {
      "text/html": [
       "        <script type=\"text/javascript\">\n",
       "        window.PlotlyConfig = {MathJaxConfig: 'local'};\n",
       "        if (window.MathJax && window.MathJax.Hub && window.MathJax.Hub.Config) {window.MathJax.Hub.Config({SVG: {font: \"STIX-Web\"}});}\n",
       "        if (typeof require !== 'undefined') {\n",
       "        require.undef(\"plotly\");\n",
       "        requirejs.config({\n",
       "            paths: {\n",
       "                'plotly': ['https://cdn.plot.ly/plotly-2.12.1.min']\n",
       "            }\n",
       "        });\n",
       "        require(['plotly'], function(Plotly) {\n",
       "            window._Plotly = Plotly;\n",
       "        });\n",
       "        }\n",
       "        </script>\n",
       "        "
      ]
     },
     "metadata": {},
     "output_type": "display_data"
    }
   ],
   "source": [
    "cf.go_offline()\n",
    "cf.set_config_file(offline=False, world_readable=True)\n"
   ]
  },
  {
   "cell_type": "markdown",
   "metadata": {},
   "source": [
    "### **Required**\n",
    "#### Run One time"
   ]
  },
  {
   "cell_type": "code",
   "execution_count": 208,
   "metadata": {},
   "outputs": [],
   "source": [
    "type1 = {'bias': 0, 'conspiracy': 1,'fake': 2,'bs': 3,'satire': 4, 'hate': 5,'junksci': 6, 'state': 7}\n",
    "df.type = [type1[item] for item in df.type] "
   ]
  },
  {
   "cell_type": "code",
   "execution_count": 209,
   "metadata": {},
   "outputs": [],
   "source": [
    "def plot_bar(df, feat_x, feat_y, normalize=True):\n",
    "    \"\"\" Plot with vertical bars of the requested dataframe and features\"\"\"\n",
    "    \n",
    "    ct = pd.crosstab(df[feat_x], df[feat_y])\n",
    "    if normalize == True:\n",
    "        ct = ct.div(ct.sum(axis=1), axis=0)\n",
    "    return ct.plot(kind='bar', stacked=True)"
   ]
  },
  {
   "cell_type": "code",
   "execution_count": 210,
   "metadata": {},
   "outputs": [
    {
     "data": {
      "image/png": "[encoded data removed]",
      "text/plain": [
       "<Figure size 640x480 with 1 Axes>"
      ]
     },
     "metadata": {},
     "output_type": "display_data"
    }
   ],
   "source": [
    "plot_bar(df,'type' , 'label')\n",
    "plt.show()"
   ]
  },
  {
   "cell_type": "markdown",
   "metadata": {},
   "source": [
    "### **Required**"
   ]
  },
  {
   "cell_type": "code",
   "execution_count": 211,
   "metadata": {},
   "outputs": [
    {
     "data": {
      "text/html": [
       "<div>\n",
       "<style scoped>\n",
       "    .dataframe tbody tr th:only-of-type {\n",
       "        vertical-align: middle;\n",
       "    }\n",
       "\n",
       "    .dataframe tbody tr th {\n",
       "        vertical-align: top;\n",
       "    }\n",
       "\n",
       "    .dataframe thead th {\n",
       "        text-align: right;\n",
       "    }\n",
       "</style>\n",
       "<table border=\"1\" class=\"dataframe\">\n",
       "  <thead>\n",
       "    <tr style=\"text-align: right;\">\n",
       "      <th></th>\n",
       "      <th>published</th>\n",
       "      <th>title</th>\n",
       "      <th>text</th>\n",
       "      <th>language</th>\n",
       "      <th>site_url</th>\n",
       "      <th>main_img_url</th>\n",
       "      <th>type</th>\n",
       "      <th>label</th>\n",
       "      <th>title_without_stopwords</th>\n",
       "      <th>text_without_stopwords</th>\n",
       "      <th>hasImage</th>\n",
       "    </tr>\n",
       "    <tr>\n",
       "      <th>author</th>\n",
       "      <th></th>\n",
       "      <th></th>\n",
       "      <th></th>\n",
       "      <th></th>\n",
       "      <th></th>\n",
       "      <th></th>\n",
       "      <th></th>\n",
       "      <th></th>\n",
       "      <th></th>\n",
       "      <th></th>\n",
       "      <th></th>\n",
       "    </tr>\n",
       "  </thead>\n",
       "  <tbody>\n",
       "    <tr>\n",
       "      <th>Daniel Greenfield</th>\n",
       "      <td>2016-11-01T23:56:39.599+02:00</td>\n",
       "      <td>hillary already planning fireworks for victory...</td>\n",
       "      <td>lloyd billingsley \\npresidential debates betwe...</td>\n",
       "      <td>english</td>\n",
       "      <td>frontpagemag.com</td>\n",
       "      <td>http://www.frontpagemag.com/sites/default/file...</td>\n",
       "      <td>5</td>\n",
       "      <td>Real</td>\n",
       "      <td>james comey change outcome election</td>\n",
       "      <td>netanyahus critical foreign tour israels strat...</td>\n",
       "      <td>1.0</td>\n",
       "    </tr>\n",
       "    <tr>\n",
       "      <th>No Author</th>\n",
       "      <td>2016-11-08T16:05:09.711+02:00</td>\n",
       "      <td>video women on the street explain why they hat...</td>\n",
       "      <td>donna brazile the corrupt head of the democrat...</td>\n",
       "      <td>english</td>\n",
       "      <td>dailywire.com</td>\n",
       "      <td>http://www.dailywire.com/sites/default/files/s...</td>\n",
       "      <td>0</td>\n",
       "      <td>Real</td>\n",
       "      <td>video women street explain hate hillary daily ...</td>\n",
       "      <td>donna brazile corrupt head democratic national...</td>\n",
       "      <td>1.0</td>\n",
       "    </tr>\n",
       "    <tr>\n",
       "      <th>Buck Rogers</th>\n",
       "      <td>2016-10-27T17:51:10.531+03:00</td>\n",
       "      <td>comment on gold medalist wrestler gets violent...</td>\n",
       "      <td>this proves that even though the power elites ...</td>\n",
       "      <td>english</td>\n",
       "      <td>thefreethoughtproject.com</td>\n",
       "      <td>http://thefreethoughtproject.com/wp-content/up...</td>\n",
       "      <td>3</td>\n",
       "      <td>Fake</td>\n",
       "      <td>hillary entire obama administration exposed us...</td>\n",
       "      <td>agreed</td>\n",
       "      <td>1.0</td>\n",
       "    </tr>\n",
       "    <tr>\n",
       "      <th>Isabelle Z.</th>\n",
       "      <td>2016-10-27T11:36:36.145+03:00</td>\n",
       "      <td>std infection rates reach alltime high in the ...</td>\n",
       "      <td>scandal epa could have issued an emergency ord...</td>\n",
       "      <td>english</td>\n",
       "      <td>naturalnews.com</td>\n",
       "      <td>http://www.naturalnews.com/gallery/640/Technol...</td>\n",
       "      <td>6</td>\n",
       "      <td>Fake</td>\n",
       "      <td>new video break cycle human complacency servitude</td>\n",
       "      <td>dilbert creator scott adams endorses trump say...</td>\n",
       "      <td>1.0</td>\n",
       "    </tr>\n",
       "    <tr>\n",
       "      <th>No Author</th>\n",
       "      <td>2016-11-05T01:09:27.580+02:00</td>\n",
       "      <td>life  steps to rolling the perfect joint</td>\n",
       "      <td>email \\nthe president has to be kicking himsel...</td>\n",
       "      <td>english</td>\n",
       "      <td>clickhole.com</td>\n",
       "      <td>http://images.onionstatic.com/clickhole/3440/7...</td>\n",
       "      <td>4</td>\n",
       "      <td>Fake</td>\n",
       "      <td>life steps rolling perfect joint</td>\n",
       "      <td>email president kicking one term office comes ...</td>\n",
       "      <td>1.0</td>\n",
       "    </tr>\n",
       "  </tbody>\n",
       "</table>\n",
       "</div>"
      ],
      "text/plain": [
       "                                       published  \\\n",
       "author                                             \n",
       "Daniel Greenfield  2016-11-01T23:56:39.599+02:00   \n",
       "No Author          2016-11-08T16:05:09.711+02:00   \n",
       "Buck Rogers        2016-10-27T17:51:10.531+03:00   \n",
       "Isabelle Z.        2016-10-27T11:36:36.145+03:00   \n",
       "No Author          2016-11-05T01:09:27.580+02:00   \n",
       "\n",
       "                                                               title  \\\n",
       "author                                                                 \n",
       "Daniel Greenfield  hillary already planning fireworks for victory...   \n",
       "No Author          video women on the street explain why they hat...   \n",
       "Buck Rogers        comment on gold medalist wrestler gets violent...   \n",
       "Isabelle Z.        std infection rates reach alltime high in the ...   \n",
       "No Author                   life  steps to rolling the perfect joint   \n",
       "\n",
       "                                                                text language  \\\n",
       "author                                                                          \n",
       "Daniel Greenfield  lloyd billingsley \\npresidential debates betwe...  english   \n",
       "No Author          donna brazile the corrupt head of the democrat...  english   \n",
       "Buck Rogers        this proves that even though the power elites ...  english   \n",
       "Isabelle Z.        scandal epa could have issued an emergency ord...  english   \n",
       "No Author          email \\nthe president has to be kicking himsel...  english   \n",
       "\n",
       "                                    site_url  \\\n",
       "author                                         \n",
       "Daniel Greenfield           frontpagemag.com   \n",
       "No Author                      dailywire.com   \n",
       "Buck Rogers        thefreethoughtproject.com   \n",
       "Isabelle Z.                  naturalnews.com   \n",
       "No Author                      clickhole.com   \n",
       "\n",
       "                                                        main_img_url  type  \\\n",
       "author                                                                       \n",
       "Daniel Greenfield  http://www.frontpagemag.com/sites/default/file...     5   \n",
       "No Author          http://www.dailywire.com/sites/default/files/s...     0   \n",
       "Buck Rogers        http://thefreethoughtproject.com/wp-content/up...     3   \n",
       "Isabelle Z.        http://www.naturalnews.com/gallery/640/Technol...     6   \n",
       "No Author          http://images.onionstatic.com/clickhole/3440/7...     4   \n",
       "\n",
       "                  label                            title_without_stopwords  \\\n",
       "author                                                                       \n",
       "Daniel Greenfield  Real                james comey change outcome election   \n",
       "No Author          Real  video women street explain hate hillary daily ...   \n",
       "Buck Rogers        Fake  hillary entire obama administration exposed us...   \n",
       "Isabelle Z.        Fake  new video break cycle human complacency servitude   \n",
       "No Author          Fake                   life steps rolling perfect joint   \n",
       "\n",
       "                                              text_without_stopwords  hasImage  \n",
       "author                                                                          \n",
       "Daniel Greenfield  netanyahus critical foreign tour israels strat...       1.0  \n",
       "No Author          donna brazile corrupt head democratic national...       1.0  \n",
       "Buck Rogers                                                   agreed       1.0  \n",
       "Isabelle Z.        dilbert creator scott adams endorses trump say...       1.0  \n",
       "No Author          email president kicking one term office comes ...       1.0  "
      ]
     },
     "execution_count": 211,
     "metadata": {},
     "output_type": "execute_result"
    }
   ],
   "source": [
    "df1 = df.sample(frac=1)\n",
    "df1.head()"
   ]
  },
  {
   "cell_type": "code",
   "execution_count": 212,
   "metadata": {},
   "outputs": [
    {
     "data": {
      "text/plain": [
       "author\n",
       "Daniel Greenfield                      Real\n",
       "No Author                              Real\n",
       "Buck Rogers                            Fake\n",
       "Isabelle Z.                            Fake\n",
       "No Author                              Fake\n",
       "                                       ... \n",
       "South Front                            Fake\n",
       "The angel of light                     Fake\n",
       "noreply@blogger.com (Der Postillon)    Fake\n",
       "Steve Watson                           Fake\n",
       "No Author                              Fake\n",
       "Name: label, Length: 2045, dtype: object"
      ]
     },
     "execution_count": 212,
     "metadata": {},
     "output_type": "execute_result"
    }
   ],
   "source": [
    "y = df1['label']\n",
    "x = df1.loc[:, ['site_url','text_without_stopwords']]\n",
    "x['source'] = x['site_url'].astype(str) + \" \"+x[\"text_without_stopwords\"]\n",
    "x = x.drop(['site_url', 'text_without_stopwords'], axis=1)\n",
    "x = x.source\n",
    "y"
   ]
  },
  {
   "cell_type": "code",
   "execution_count": 227,
   "metadata": {},
   "outputs": [
    {
     "name": "stdout",
     "output_type": "stream",
     "text": [
      "author\n",
      "Corbett               corbettreport.com climate change nadia prupis ...\n",
      "Brandon Turbeville    activistpost.com everett numbers pentagon cong...\n",
      "Doug Shelp            westernjournalism.com got received seekingher ...\n",
      "No Author             westernjournalism.com total idiot ever get job...\n",
      "admin                 prisonplanet.com proud shares nras magazine ac...\n",
      "                                            ...                        \n",
      "EdJenner              dailywire.com go article day donald trumps his...\n",
      "No Author             21stcenturywire.com november wire leave commen...\n",
      "Rhonda Gilmore        westernjournalism.com revote states already vo...\n",
      "EdJenner              100percentfedup.com go article know coming don...\n",
      "Mikael Thalen         infowars.com eight ways strengthen democracy b...\n",
      "Name: source, Length: 1431, dtype: object\n",
      "(1431, 38674)\n"
     ]
    }
   ],
   "source": [
    "x_train,x_test,y_train,y_test=train_test_split(x,y,test_size=0.30)\n",
    "tfidf_vect = TfidfVectorizer(stop_words = 'english')\n",
    "tfidf_train = tfidf_vect.fit_transform(x_train)\n",
    "tfidf_test = tfidf_vect.transform(x_test)\n",
    "\n",
    "print(x_train)\n",
    "print(tfidf_train.shape)"
   ]
  },
  {
   "cell_type": "code",
   "execution_count": 165,
   "metadata": {},
   "outputs": [
    {
     "data": {
      "text/plain": [
       "(1431, 38994)"
      ]
     },
     "execution_count": 165,
     "metadata": {},
     "output_type": "execute_result"
    }
   ],
   "source": [
    "tfidf_train.shape"
   ]
  },
  {
   "cell_type": "code",
   "execution_count": 167,
   "metadata": {},
   "outputs": [
    {
     "name": "stdout",
     "output_type": "stream",
     "text": [
      "accuracy: 0.980\n"
     ]
    }
   ],
   "source": [
    "Adab = AdaBoostClassifier(DecisionTreeClassifier(max_depth=10),n_estimators=5,random_state=1)\n",
    "Adab.fit(tfidf_train, y_train)\n",
    "y_pred3 = Adab.predict(tfidf_test)\n",
    "ABscore = metrics.accuracy_score(y_test,y_pred3)\n",
    "print(\"accuracy: %0.3f\" %ABscore)"
   ]
  },
  {
   "cell_type": "code",
   "execution_count": 170,
   "metadata": {},
   "outputs": [
    {
     "name": "stdout",
     "output_type": "stream",
     "text": [
      "accuracy:  0.855\n",
      "  (0, 38965)\t0.10575127937119048\n",
      "  (0, 38939)\t0.06695591236363416\n",
      "  (0, 38896)\t0.09114851655503149\n",
      "  (0, 38557)\t0.06478445557448212\n",
      "  (0, 38264)\t0.07370107323538656\n",
      "  (0, 38063)\t0.054765012662002066\n",
      "  (0, 37762)\t0.051294133830977286\n",
      "  (0, 37508)\t0.028366177972551962\n",
      "  (0, 37299)\t0.049519924448822535\n",
      "  (0, 37297)\t0.08861736791442074\n",
      "  (0, 37104)\t0.059064580021020587\n",
      "  (0, 36929)\t0.06975540706407977\n",
      "  (0, 36029)\t0.09009623757133273\n",
      "  (0, 35825)\t0.12302034706750896\n",
      "  (0, 35729)\t0.07370107323538656\n",
      "  (0, 35643)\t0.06478445557448212\n",
      "  (0, 34275)\t0.0746580494943809\n",
      "  (0, 33122)\t0.07370107323538656\n",
      "  (0, 33068)\t0.06695591236363416\n",
      "  (0, 32840)\t0.057111811314603564\n",
      "  (0, 32715)\t0.048741012040302734\n",
      "  (0, 32195)\t0.05626508532057495\n",
      "  (0, 31655)\t0.051793279657418784\n",
      "  (0, 31489)\t0.052319419149268166\n",
      "  (0, 30765)\t0.05626508532057495\n",
      "  :\t:\n",
      "  (613, 10627)\t0.04706240928823032\n",
      "  (613, 10624)\t0.04454178080676604\n",
      "  (613, 10158)\t0.07116286528309142\n",
      "  (613, 10062)\t0.048632061961673724\n",
      "  (613, 9932)\t0.060840222053728375\n",
      "  (613, 9812)\t0.05287894798825866\n",
      "  (613, 9224)\t0.05703044157327344\n",
      "  (613, 9210)\t0.17966122280419544\n",
      "  (613, 8921)\t0.05703044157327344\n",
      "  (613, 8893)\t0.16292800130524437\n",
      "  (613, 8236)\t0.14012339503173118\n",
      "  (613, 8230)\t0.12975788642332614\n",
      "  (613, 8184)\t0.05223068580780143\n",
      "  (613, 8155)\t0.04511141428745903\n",
      "  (613, 8101)\t0.06255332903716447\n",
      "  (613, 6497)\t0.010786704179934862\n",
      "  (613, 5835)\t0.12510665807432894\n",
      "  (613, 3708)\t0.10575789597651732\n",
      "  (613, 3486)\t0.06735308480263646\n",
      "  (613, 2469)\t0.14344348966773657\n",
      "  (613, 2416)\t0.08699339284144579\n",
      "  (613, 2081)\t0.04511141428745903\n",
      "  (613, 1425)\t0.06735308480263646\n",
      "  (613, 1142)\t0.09341559668782079\n",
      "  (613, 1008)\t0.05287894798825866\n"
     ]
    }
   ],
   "source": [
    "Rando = RandomForestClassifier(n_estimators=100,random_state=0)\n",
    "Rando.fit(tfidf_train,y_train)\n",
    "y_pred1 = Rando.predict(tfidf_test)\n",
    "RFscore = metrics.accuracy_score(y_test,y_pred1)\n",
    "print(\"accuracy:  %0.3f\" %RFscore)\n"
   ]
  },
  {
   "cell_type": "code",
   "execution_count": 172,
   "metadata": {},
   "outputs": [
    {
     "data": {
      "text/plain": [
       "array(['Fake', 'Real', 'Real', 'Fake', 'Fake', 'Fake', 'Fake', 'Real',\n",
       "       'Fake', 'Real', 'Fake', 'Fake', 'Fake', 'Fake', 'Real', 'Fake',\n",
       "       'Fake', 'Fake', 'Fake', 'Fake', 'Fake', 'Fake', 'Fake', 'Real',\n",
       "       'Real', 'Fake', 'Fake', 'Fake', 'Real', 'Fake', 'Fake', 'Fake',\n",
       "       'Fake', 'Fake', 'Fake', 'Fake', 'Fake', 'Fake', 'Fake', 'Fake',\n",
       "       'Fake', 'Fake', 'Fake', 'Fake', 'Fake', 'Fake', 'Fake', 'Real',\n",
       "       'Real', 'Real', 'Fake', 'Real', 'Real', 'Real', 'Real', 'Fake',\n",
       "       'Real', 'Fake', 'Fake', 'Fake', 'Fake', 'Fake', 'Real', 'Fake',\n",
       "       'Real', 'Fake', 'Fake', 'Fake', 'Real', 'Fake', 'Fake', 'Fake',\n",
       "       'Fake', 'Real', 'Real', 'Fake', 'Fake', 'Fake', 'Real', 'Fake',\n",
       "       'Fake', 'Fake', 'Real', 'Fake', 'Real', 'Fake', 'Fake', 'Fake',\n",
       "       'Real', 'Fake', 'Fake', 'Real', 'Real', 'Real', 'Real', 'Real',\n",
       "       'Fake', 'Fake', 'Real', 'Fake', 'Real', 'Real', 'Real', 'Fake',\n",
       "       'Fake', 'Fake', 'Real', 'Fake', 'Fake', 'Fake', 'Fake', 'Fake',\n",
       "       'Fake', 'Real', 'Fake', 'Real', 'Real', 'Fake', 'Fake', 'Fake',\n",
       "       'Fake', 'Real', 'Fake', 'Fake', 'Real', 'Real', 'Real', 'Real',\n",
       "       'Fake', 'Fake', 'Fake', 'Fake', 'Fake', 'Real', 'Fake', 'Fake',\n",
       "       'Real', 'Real', 'Fake', 'Fake', 'Fake', 'Real', 'Fake', 'Fake',\n",
       "       'Real', 'Real', 'Real', 'Fake', 'Real', 'Fake', 'Fake', 'Fake',\n",
       "       'Real', 'Fake', 'Real', 'Fake', 'Fake', 'Fake', 'Fake', 'Real',\n",
       "       'Fake', 'Fake', 'Fake', 'Fake', 'Fake', 'Fake', 'Real', 'Fake',\n",
       "       'Fake', 'Real', 'Real', 'Real', 'Real', 'Real', 'Fake', 'Real',\n",
       "       'Fake', 'Fake', 'Real', 'Fake', 'Real', 'Fake', 'Real', 'Fake',\n",
       "       'Real', 'Fake', 'Fake', 'Real', 'Real', 'Real', 'Fake', 'Fake',\n",
       "       'Real', 'Fake', 'Real', 'Fake', 'Fake', 'Fake', 'Fake', 'Fake',\n",
       "       'Fake', 'Fake', 'Real', 'Real', 'Fake', 'Real', 'Fake', 'Fake',\n",
       "       'Fake', 'Real', 'Fake', 'Real', 'Fake', 'Fake', 'Real', 'Real',\n",
       "       'Fake', 'Fake', 'Fake', 'Fake', 'Real', 'Fake', 'Real', 'Real',\n",
       "       'Real', 'Fake', 'Fake', 'Real', 'Fake', 'Fake', 'Fake', 'Real',\n",
       "       'Real', 'Fake', 'Fake', 'Fake', 'Fake', 'Fake', 'Fake', 'Fake',\n",
       "       'Fake', 'Fake', 'Fake', 'Fake', 'Fake', 'Fake', 'Real', 'Fake',\n",
       "       'Fake', 'Real', 'Fake', 'Real', 'Fake', 'Real', 'Real', 'Real',\n",
       "       'Real', 'Fake', 'Fake', 'Fake', 'Real', 'Fake', 'Real', 'Real',\n",
       "       'Fake', 'Real', 'Fake', 'Fake', 'Real', 'Fake', 'Real', 'Real',\n",
       "       'Real', 'Real', 'Fake', 'Fake', 'Fake', 'Real', 'Real', 'Fake',\n",
       "       'Real', 'Real', 'Fake', 'Fake', 'Real', 'Real', 'Real', 'Real',\n",
       "       'Real', 'Real', 'Real', 'Fake', 'Fake', 'Real', 'Fake', 'Fake',\n",
       "       'Fake', 'Real', 'Fake', 'Real', 'Real', 'Fake', 'Fake', 'Fake',\n",
       "       'Fake', 'Fake', 'Real', 'Fake', 'Real', 'Fake', 'Fake', 'Fake',\n",
       "       'Real', 'Real', 'Fake', 'Fake', 'Fake', 'Real', 'Fake', 'Fake',\n",
       "       'Fake', 'Fake', 'Fake', 'Real', 'Fake', 'Real', 'Fake', 'Real',\n",
       "       'Fake', 'Fake', 'Real', 'Real', 'Fake', 'Real', 'Fake', 'Real',\n",
       "       'Real', 'Fake', 'Real', 'Fake', 'Real', 'Real', 'Fake', 'Fake',\n",
       "       'Fake', 'Real', 'Fake', 'Fake', 'Fake', 'Real', 'Real', 'Fake',\n",
       "       'Real', 'Fake', 'Fake', 'Fake', 'Fake', 'Real', 'Fake', 'Fake',\n",
       "       'Real', 'Real', 'Real', 'Real', 'Fake', 'Fake', 'Real', 'Real',\n",
       "       'Fake', 'Fake', 'Fake', 'Fake', 'Real', 'Fake', 'Real', 'Fake',\n",
       "       'Fake', 'Fake', 'Fake', 'Fake', 'Fake', 'Real', 'Fake', 'Fake',\n",
       "       'Fake', 'Fake', 'Fake', 'Real', 'Fake', 'Real', 'Real', 'Real',\n",
       "       'Real', 'Real', 'Real', 'Fake', 'Real', 'Fake', 'Fake', 'Fake',\n",
       "       'Fake', 'Fake', 'Real', 'Real', 'Real', 'Fake', 'Fake', 'Fake',\n",
       "       'Fake', 'Fake', 'Real', 'Fake', 'Fake', 'Fake', 'Real', 'Real',\n",
       "       'Fake', 'Real', 'Real', 'Fake', 'Real', 'Fake', 'Fake', 'Fake',\n",
       "       'Fake', 'Fake', 'Real', 'Real', 'Fake', 'Real', 'Fake', 'Real',\n",
       "       'Real', 'Fake', 'Fake', 'Real', 'Fake', 'Real', 'Fake', 'Fake',\n",
       "       'Fake', 'Fake', 'Real', 'Real', 'Fake', 'Real', 'Fake', 'Real',\n",
       "       'Fake', 'Fake', 'Real', 'Fake', 'Real', 'Fake', 'Fake', 'Fake',\n",
       "       'Fake', 'Fake', 'Fake', 'Fake', 'Real', 'Real', 'Fake', 'Fake',\n",
       "       'Fake', 'Fake', 'Fake', 'Fake', 'Real', 'Fake', 'Real', 'Real',\n",
       "       'Real', 'Fake', 'Fake', 'Real', 'Real', 'Fake', 'Fake', 'Fake',\n",
       "       'Fake', 'Real', 'Fake', 'Fake', 'Fake', 'Fake', 'Fake', 'Fake',\n",
       "       'Real', 'Real', 'Fake', 'Real', 'Real', 'Real', 'Real', 'Fake',\n",
       "       'Fake', 'Fake', 'Real', 'Fake', 'Fake', 'Fake', 'Real', 'Fake',\n",
       "       'Real', 'Real', 'Fake', 'Real', 'Fake', 'Real', 'Real', 'Real',\n",
       "       'Fake', 'Real', 'Real', 'Real', 'Fake', 'Real', 'Fake', 'Real',\n",
       "       'Fake', 'Real', 'Fake', 'Real', 'Fake', 'Real', 'Real', 'Real',\n",
       "       'Real', 'Fake', 'Fake', 'Real', 'Fake', 'Real', 'Real', 'Fake',\n",
       "       'Fake', 'Fake', 'Real', 'Fake', 'Fake', 'Fake', 'Fake', 'Fake',\n",
       "       'Fake', 'Real', 'Fake', 'Real', 'Fake', 'Fake', 'Real', 'Fake',\n",
       "       'Real', 'Fake', 'Fake', 'Fake', 'Real', 'Real', 'Fake', 'Fake',\n",
       "       'Real', 'Real', 'Real', 'Fake', 'Fake', 'Fake', 'Fake', 'Fake',\n",
       "       'Real', 'Fake', 'Fake', 'Real', 'Fake', 'Real', 'Fake', 'Fake',\n",
       "       'Fake', 'Real', 'Real', 'Fake', 'Real', 'Real', 'Fake', 'Fake',\n",
       "       'Real', 'Fake', 'Fake', 'Fake', 'Real', 'Fake', 'Real', 'Real',\n",
       "       'Real', 'Fake', 'Real', 'Fake', 'Real', 'Fake', 'Real', 'Fake',\n",
       "       'Fake', 'Fake', 'Fake', 'Fake', 'Real', 'Fake', 'Real', 'Fake',\n",
       "       'Fake', 'Fake', 'Fake', 'Real', 'Real', 'Fake'], dtype=object)"
      ]
     },
     "execution_count": 172,
     "metadata": {},
     "output_type": "execute_result"
    }
   ],
   "source": [
    "y_pred3"
   ]
  },
  {
   "cell_type": "code",
   "execution_count": 74,
   "metadata": {},
   "outputs": [
    {
     "name": "stderr",
     "output_type": "stream",
     "text": [
      "[nltk_data] Downloading package punkt to\n",
      "[nltk_data]     C:\\Users\\simon\\AppData\\Roaming\\nltk_data...\n",
      "[nltk_data]   Package punkt is already up-to-date!\n",
      "[nltk_data] Downloading package stopwords to\n",
      "[nltk_data]     C:\\Users\\simon\\AppData\\Roaming\\nltk_data...\n",
      "[nltk_data]   Package stopwords is already up-to-date!\n",
      "[nltk_data] Downloading package wordnet to\n",
      "[nltk_data]     C:\\Users\\simon\\AppData\\Roaming\\nltk_data...\n",
      "[nltk_data]   Package wordnet is already up-to-date!\n",
      "[nltk_data] Downloading package averaged_perceptron_tagger to\n",
      "[nltk_data]     C:\\Users\\simon\\AppData\\Roaming\\nltk_data...\n",
      "[nltk_data]   Package averaged_perceptron_tagger is already up-to-\n",
      "[nltk_data]       date!\n"
     ]
    },
    {
     "data": {
      "text/plain": [
       "True"
      ]
     },
     "execution_count": 74,
     "metadata": {},
     "output_type": "execute_result"
    }
   ],
   "source": [
    "import nltk\n",
    "from nltk.corpus import stopwords\n",
    "from nltk.stem import PorterStemmer, WordNetLemmatizer\n",
    "from nltk.tokenize import word_tokenize, sent_tokenize\n",
    "from nltk import pos_tag\n",
    "import string\n",
    "import re\n",
    "\n",
    "nltk.download('punkt')\n",
    "nltk.download('stopwords')\n",
    "nltk.download('wordnet')\n",
    "nltk.download('averaged_perceptron_tagger')\n"
   ]
  },
  {
   "cell_type": "code",
   "execution_count": 231,
   "metadata": {},
   "outputs": [],
   "source": [
    "def preprocess_text(text):\n",
    "\n",
    "    text = re.sub(r\"(@\\[A-Za-z0-9]+)|([^0-9A-Za-z \\t])|(\\w+:\\/\\/\\S+)|^rt|http.+?\", \"\", text)\n",
    "    # Tokenize the text into words\n",
    "    words = word_tokenize(text.lower())\n",
    "\n",
    "    words = [word for word in words if word not in string.punctuation]\n",
    "\n",
    "    # Remove stop words\n",
    "    stop_words = stopwords.words('english')\n",
    "    words = [word for word in text.split() if word not in (stop_words)]\n",
    "    words = \" \".join([word for word in words if word.isalpha()]).lower()    \n",
    "    \n",
    "    return words\n"
   ]
  },
  {
   "cell_type": "code",
   "execution_count": 241,
   "metadata": {},
   "outputs": [
    {
     "name": "stdout",
     "output_type": "stream",
     "text": [
      "['the daily wire exclusively obtained newsletter office joe bidens national intelligence director joe biden hes sometimes called the big guy course rhododendron currently running free world behalf chinese fair since theyve paid bundle bribes his director national intelligence avril haines whose pronouns wang tsi co mao soy fang fang chu served cia director john brennan communist president barack obama antiamerican globalist', 'but worry confirmation hearing dni fang fang reassured congress areas wanted cooperate chinese like collecting the big guys money depositing one twenty shell companies plausible deniability hes handing border mexican cartels kill americans fentanyl launder profits chinese mafia inside us', 'what i talking oh yeah', 'according the daily wires crack investigative reporter spencer crack dni fang fangs office puts newsletter called the dive dive guides fbi cia nsa matters diversity equity inclusion dei intelligence officers better keep america free untraceable banking chinese bribes', 'according dni fang fangs newsletter american intelligence officers reporting terrorist threats stop describing im making stop describing terrorists phrases may hurtful muslimamericans', 'now daily wires crack reporter crack also obtained secret files describe reallife incident dnis dei dive helped cia fbi nsa perform duties', 'recently one top cia agents wong fu chi received warning young iranian man blow wall street shouting allahu akbar thereby potentially damaging banking system preventing president big guy collecting money china secreting one twenty shell companies though dead night agent wong quickly called dni fang fang sleeping congressman eric swalwells house report the big guys cash facing jihadist threat dni fang fang immediately dropped riding crop leapt bed instructed agent wong refile report first removing word jihadist might offend muslimamericans dutifully starting agent wong said a young man foreign nation intends destroy world order hasten arrival twelfth imam sorry i say twelfth nondenominational clergyman named mohammed almahdi maybe bob almahdi lets call pastor bob unfortunately point agent wongs report interrupted shout allahu akbar followed tremendous explosion', 'in another helpful edition dnis dei dive fbi cia nsa newsletter tells touching story american intelligence officer says god witness real quote dni newsletter i intelligence officer i man likes wear womens clothes sometimes my gender identity expression make better intelligence officer', 'the officer goes explain crossdressing makes intelligence work incisive also becoming pink chiffon mini sundress naughty nice sweetheart neckline thats simply perfect reporting young foreignborn males want hasten coming twelfth nondenominational clergyman pastor bob but point article interrupted shout allahu akbar followed tremendous explosion', 'so see rest easy night knowing congressman swalwells mistress dni fang fang crossdressing communist cia agent keeping watch make sure one uses offensive language president big guy paid china money make laundering profits mexican gangsters collect killing americans', 'all said ill begin satire', '', 'andrew klavan host the andrew klavan show the daily wire he bestselling author cameron winter mystery series the third installment the house love death available follow x andrewklavan', 'this excerpt taken opening satirical monologue the andrew klavan show', 'the views expressed satirical article author necessarily represent the daily wire', 'your information could missing piece important story submit tip today make difference']\n"
     ]
    }
   ],
   "source": [
    "import requests\n",
    "from bs4 import BeautifulSoup\n",
    "from urllib.parse import urlparse\n",
    "\n",
    "URL = \"https://www.dailywire.com/news/hanging-with-president-big-guy-and-his-national-intelligence-leaders\"\n",
    "page = requests.get(URL)\n",
    "soup = BeautifulSoup(page.content, 'html.parser')\n",
    "\n",
    "text = []\n",
    "parsed_url = urlparse(URL).netloc\n",
    "base_url = parsed_url[4:]\n",
    "\n",
    "# Find all <p> elements and print their text\n",
    "for paragraph in soup.find_all('p'):\n",
    "    text.append(preprocess_text(paragraph.get_text()))\n",
    "\n",
    "# final = \"bbc.com \" + processed_text\n",
    "print(text)\n",
    "\n"
   ]
  },
  {
   "cell_type": "code",
   "execution_count": 242,
   "metadata": {},
   "outputs": [
    {
     "name": "stdout",
     "output_type": "stream",
     "text": [
      "  (0, 39034)\t0.06755015377634324\n",
      "  (0, 38846)\t0.12996563907231823\n",
      "  (0, 38161)\t0.20501966987333864\n",
      "  (0, 35241)\t0.12603555923349508\n",
      "  (0, 32886)\t0.18625616217308352\n",
      "  (0, 31586)\t0.11788463849762326\n",
      "  (0, 30373)\t0.0958126970951985\n",
      "  (0, 27206)\t0.06377779710663116\n",
      "  (0, 25270)\t0.10550213896445279\n",
      "  (0, 24480)\t0.08656784193105144\n",
      "  (0, 24383)\t0.1335803364757066\n",
      "  (0, 24273)\t0.07839990137726036\n",
      "  (0, 23647)\t0.11294919039832883\n",
      "  (0, 23301)\t0.14950749098654612\n",
      "  (0, 21315)\t0.20501966987333864\n",
      "  (0, 18745)\t0.08832625345046273\n",
      "  (0, 18733)\t0.25207111846699015\n",
      "  (0, 17948)\t0.21528071359964077\n",
      "  (0, 15974)\t0.09441221137990947\n",
      "  (0, 15236)\t0.11682293302741334\n",
      "  (0, 14622)\t0.1470880370772864\n",
      "  (0, 13633)\t0.08188898361552582\n",
      "  (0, 12445)\t0.37251232434616705\n",
      "  (0, 12346)\t0.12196741706511807\n",
      "  (0, 11920)\t0.14407715696496953\n",
      "  :\t:\n",
      "  (13, 34652)\t0.23308560404080908\n",
      "  (13, 30728)\t0.5013897174507682\n",
      "  (13, 24696)\t0.3380390144417874\n",
      "  (13, 22683)\t0.5297504787171918\n",
      "  (13, 11893)\t0.42454591456807056\n",
      "  (13, 1405)\t0.3451583315831469\n",
      "  (14, 38846)\t0.33966696303142846\n",
      "  (14, 37781)\t0.30397070316535896\n",
      "  (14, 30728)\t0.5071359017903759\n",
      "  (14, 29389)\t0.3374899339189609\n",
      "  (14, 23436)\t0.37291871572095264\n",
      "  (14, 12141)\t0.31399217463629603\n",
      "  (14, 8157)\t0.24794674187808716\n",
      "  (14, 2559)\t0.2697248189379331\n",
      "  (14, 2093)\t0.22193099926316429\n",
      "  (15, 35589)\t0.21389026525208915\n",
      "  (15, 35526)\t0.40920007708788964\n",
      "  (15, 33984)\t0.4512198831034498\n",
      "  (15, 33722)\t0.2518983764201543\n",
      "  (15, 26225)\t0.3464052006342119\n",
      "  (15, 22435)\t0.3600658256000513\n",
      "  (15, 21106)\t0.18743115360425494\n",
      "  (15, 17651)\t0.2376199237563561\n",
      "  (15, 17268)\t0.24683847243565818\n",
      "  (15, 9345)\t0.3429099263909006\n"
     ]
    }
   ],
   "source": [
    "x_train,x_test,y_train,y_test=train_test_split(x,y,test_size=0.30)\n",
    "\n",
    "tfidf_vect = TfidfVectorizer(stop_words = 'english')\n",
    "tfidf_train = tfidf_vect.fit_transform(x_train)\n",
    "tfidf_test = tfidf_vect.transform(text)\n",
    "print(tfidf_test)"
   ]
  },
  {
   "cell_type": "code",
   "execution_count": 257,
   "metadata": {},
   "outputs": [],
   "source": [
    "Adab = AdaBoostClassifier(DecisionTreeClassifier(max_depth=10),n_estimators=5,random_state=4)\n",
    "Adab.fit(tfidf_train, y_train)\n",
    "y_pred3 = Adab.predict(tfidf_test)\n",
    "#ABscore = metrics.accuracy_score(y_test,y_pred3)\n",
    "#print(\"accuracy: %0.3f\" %ABscore)"
   ]
  },
  {
   "cell_type": "code",
   "execution_count": 256,
   "metadata": {},
   "outputs": [
    {
     "data": {
      "text/plain": [
       "array(['Fake', 'Fake', 'Fake', 'Fake', 'Fake', 'Fake', 'Fake', 'Fake',\n",
       "       'Fake', 'Fake', 'Fake', 'Fake', 'Fake', 'Fake', 'Fake', 'Fake'],\n",
       "      dtype=object)"
      ]
     },
     "execution_count": 256,
     "metadata": {},
     "output_type": "execute_result"
    }
   ],
   "source": [
    "y_pred3"
   ]
  },
  {
   "cell_type": "code",
   "execution_count": 254,
   "metadata": {},
   "outputs": [],
   "source": [
    "Rando = RandomForestClassifier(n_estimators=1,random_state=1)\n",
    "Rando.fit(tfidf_train,y_train)\n",
    "y_pred1 = Rando.predict(tfidf_test)"
   ]
  },
  {
   "cell_type": "code",
   "execution_count": 255,
   "metadata": {},
   "outputs": [
    {
     "data": {
      "text/plain": [
       "array(['Fake', 'Fake', 'Fake', 'Fake', 'Fake', 'Fake', 'Fake', 'Fake',\n",
       "       'Fake', 'Real', 'Fake', 'Fake', 'Real', 'Fake', 'Fake', 'Fake'],\n",
       "      dtype=object)"
      ]
     },
     "execution_count": 255,
     "metadata": {},
     "output_type": "execute_result"
    }
   ],
   "source": [
    "y_pred1"
   ]
  },
  {
   "cell_type": "code",
   "execution_count": null,
   "metadata": {},
   "outputs": [],
   "source": []
  }
 ],
 "metadata": {
  "kernelspec": {
   "display_name": "base",
   "language": "python",
   "name": "python3"
  },
  "language_info": {
   "codemirror_mode": {
    "name": "ipython",
    "version": 3
   },
   "file_extension": ".py",
   "mimetype": "text/x-python",
   "name": "python",
   "nbconvert_exporter": "python",
   "pygments_lexer": "ipython3",
   "version": "3.11.5"
  }
 },
 "nbformat": 4,
 "nbformat_minor": 2
}
