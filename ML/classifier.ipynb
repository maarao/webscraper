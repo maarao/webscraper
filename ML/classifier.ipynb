{
 "cells": [
  {
   "cell_type": "code",
   "execution_count": 1,
   "metadata": {},
   "outputs": [],
   "source": [
    "import pandas as pd\n",
    "import matplotlib.pyplot as plt\n",
    "import cufflinks as cf\n",
    "import plotly\n",
    "import plotly.express as px\n",
    "import seaborn as sns\n",
    "\n",
    "from IPython.core.display import HTML\n",
    "from wordcloud import WordCloud\n",
    "from sklearn.feature_extraction.text import TfidfVectorizer\n",
    "from sklearn.model_selection import train_test_split\n",
    "from sklearn import metrics\n",
    "from sklearn.ensemble import RandomForestClassifier, AdaBoostClassifier\n",
    "from sklearn.tree import DecisionTreeClassifier\n",
    "from datetime import datetime\n",
    "from sklearn.feature_extraction.text import CountVectorizer\n",
    "from pandas import DataFrame\n",
    "from collections import OrderedDict \n",
    "from colorama import Fore, Back, Style\n",
    "y_ = Fore.YELLOW\n",
    "r_ = Fore.RED\n",
    "g_ = Fore.GREEN\n",
    "b_ = Fore.BLUE\n",
    "m_ = Fore.MAGENTA\n",
    "sr_ = Style.RESET_ALL"
   ]
  },
  {
   "cell_type": "code",
   "execution_count": 10,
   "metadata": {},
   "outputs": [
    {
     "data": {
      "text/plain": [
       "published                  2045\n",
       "title                      2045\n",
       "text                       2045\n",
       "language                   2045\n",
       "site_url                   2045\n",
       "main_img_url               2045\n",
       "type                       2045\n",
       "label                      2045\n",
       "title_without_stopwords    2045\n",
       "text_without_stopwords     2045\n",
       "hasImage                   2045\n",
       "dtype: int64"
      ]
     },
     "execution_count": 10,
     "metadata": {},
     "output_type": "execute_result"
    }
   ],
   "source": [
    "df = pd.read_csv(r'./data/news_articles.csv', encoding=\"latin\", index_col=0)\n",
    "df = df.dropna()\n",
    "df.count()"
   ]
  },
  {
   "cell_type": "code",
   "execution_count": 11,
   "metadata": {},
   "outputs": [
    {
     "data": {
      "text/plain": [
       "array(['bias', 'conspiracy', 'fake', 'bs', 'satire', 'hate', 'junksci',\n",
       "       'state'], dtype=object)"
      ]
     },
     "execution_count": 11,
     "metadata": {},
     "output_type": "execute_result"
    }
   ],
   "source": [
    "df['type'].unique()"
   ]
  },
  {
   "cell_type": "code",
   "execution_count": 12,
   "metadata": {},
   "outputs": [
    {
     "data": {
      "text/html": [
       "        <script type=\"text/javascript\">\n",
       "        window.PlotlyConfig = {MathJaxConfig: 'local'};\n",
       "        if (window.MathJax && window.MathJax.Hub && window.MathJax.Hub.Config) {window.MathJax.Hub.Config({SVG: {font: \"STIX-Web\"}});}\n",
       "        if (typeof require !== 'undefined') {\n",
       "        require.undef(\"plotly\");\n",
       "        requirejs.config({\n",
       "            paths: {\n",
       "                'plotly': ['https://cdn.plot.ly/plotly-2.12.1.min']\n",
       "            }\n",
       "        });\n",
       "        require(['plotly'], function(Plotly) {\n",
       "            window._Plotly = Plotly;\n",
       "        });\n",
       "        }\n",
       "        </script>\n",
       "        "
      ]
     },
     "metadata": {},
     "output_type": "display_data"
    }
   ],
   "source": [
    "cf.go_offline()\n",
    "cf.set_config_file(offline=False, world_readable=True)\n"
   ]
  },
  {
   "cell_type": "markdown",
   "metadata": {},
   "source": [
    "### **Required**\n",
    "#### Run One time"
   ]
  },
  {
   "cell_type": "code",
   "execution_count": 13,
   "metadata": {},
   "outputs": [],
   "source": [
    "type1 = {'bias': 0, 'conspiracy': 1,'fake': 2,'bs': 3,'satire': 4, 'hate': 5,'junksci': 6, 'state': 7}\n",
    "df.type = [type1[item] for item in df.type] "
   ]
  },
  {
   "cell_type": "code",
   "execution_count": 16,
   "metadata": {},
   "outputs": [],
   "source": [
    "def plot_bar(df, feat_x, feat_y, normalize=True):\n",
    "    \"\"\" Plot with vertical bars of the requested dataframe and features\"\"\"\n",
    "    \n",
    "    ct = pd.crosstab(df[feat_x], df[feat_y])\n",
    "    if normalize == True:\n",
    "        ct = ct.div(ct.sum(axis=1), axis=0)\n",
    "    return ct.plot(kind='bar', stacked=True)"
   ]
  },
  {
   "cell_type": "code",
   "execution_count": 17,
   "metadata": {},
   "outputs": [
    {
     "data": {
      "image/png": "[encoded data removed]",
      "text/plain": [
       "<Figure size 640x480 with 1 Axes>"
      ]
     },
     "metadata": {},
     "output_type": "display_data"
    }
   ],
   "source": [
    "plot_bar(df,'type' , 'label')\n",
    "plt.show()"
   ]
  },
  {
   "cell_type": "markdown",
   "metadata": {},
   "source": [
    "### **Required**"
   ]
  },
  {
   "cell_type": "code",
   "execution_count": 14,
   "metadata": {},
   "outputs": [
    {
     "data": {
      "text/html": [
       "<div>\n",
       "<style scoped>\n",
       "    .dataframe tbody tr th:only-of-type {\n",
       "        vertical-align: middle;\n",
       "    }\n",
       "\n",
       "    .dataframe tbody tr th {\n",
       "        vertical-align: top;\n",
       "    }\n",
       "\n",
       "    .dataframe thead th {\n",
       "        text-align: right;\n",
       "    }\n",
       "</style>\n",
       "<table border=\"1\" class=\"dataframe\">\n",
       "  <thead>\n",
       "    <tr style=\"text-align: right;\">\n",
       "      <th></th>\n",
       "      <th>published</th>\n",
       "      <th>title</th>\n",
       "      <th>text</th>\n",
       "      <th>language</th>\n",
       "      <th>site_url</th>\n",
       "      <th>main_img_url</th>\n",
       "      <th>type</th>\n",
       "      <th>label</th>\n",
       "      <th>title_without_stopwords</th>\n",
       "      <th>text_without_stopwords</th>\n",
       "      <th>hasImage</th>\n",
       "    </tr>\n",
       "    <tr>\n",
       "      <th>author</th>\n",
       "      <th></th>\n",
       "      <th></th>\n",
       "      <th></th>\n",
       "      <th></th>\n",
       "      <th></th>\n",
       "      <th></th>\n",
       "      <th></th>\n",
       "      <th></th>\n",
       "      <th></th>\n",
       "      <th></th>\n",
       "      <th></th>\n",
       "    </tr>\n",
       "  </thead>\n",
       "  <tbody>\n",
       "    <tr>\n",
       "      <th>No Author</th>\n",
       "      <td>2016-10-26T23:00:04.634+03:00</td>\n",
       "      <td>us support emboldens israel to defy intl law a...</td>\n",
       "      <td>kashmiris observes black day decades after ind...</td>\n",
       "      <td>english</td>\n",
       "      <td>presstv.ir</td>\n",
       "      <td>http://media.presstv.com/photo/20161026/b1a157...</td>\n",
       "      <td>7</td>\n",
       "      <td>Real</td>\n",
       "      <td>magnitude earthquake jolts central italy</td>\n",
       "      <td>iraq iraqi forces gather near village sin aldh...</td>\n",
       "      <td>1.0</td>\n",
       "    </tr>\n",
       "    <tr>\n",
       "      <th>Michael Snyder</th>\n",
       "      <td>2016-11-14T07:38:52.491+02:00</td>\n",
       "      <td>democrats are now calling for a revolution in ...</td>\n",
       "      <td>illegal immigrants are flooding across america...</td>\n",
       "      <td>english</td>\n",
       "      <td>theeconomiccollapseblog.com</td>\n",
       "      <td>http://theeconomiccollapseblog.com/wp-content/...</td>\n",
       "      <td>3</td>\n",
       "      <td>Fake</td>\n",
       "      <td>donald trump must shut federal reserve start i...</td>\n",
       "      <td>would want listen advice someone like steven s...</td>\n",
       "      <td>1.0</td>\n",
       "    </tr>\n",
       "    <tr>\n",
       "      <th>Admin</th>\n",
       "      <td>2016-10-28T23:31:00.000+03:00</td>\n",
       "      <td>jury finds all oregon standoff defendants not ...</td>\n",
       "      <td>indian country  by theresa braine \\nmore detai...</td>\n",
       "      <td>english</td>\n",
       "      <td>fromthetrenchesworldreport.com</td>\n",
       "      <td>http://www.fromthetrenchesworldreport.com/wp-c...</td>\n",
       "      <td>3</td>\n",
       "      <td>Fake</td>\n",
       "      <td>trump clinton went jeffrey epsteins sex slave ...</td>\n",
       "      <td>jewish pirates caribbean october daniel greenf...</td>\n",
       "      <td>1.0</td>\n",
       "    </tr>\n",
       "    <tr>\n",
       "      <th>noreply@blogger.com (Der Postillon)</th>\n",
       "      <td>2016-11-16T10:36:37.549+02:00</td>\n",
       "      <td>newsticker</td>\n",
       "      <td>donnerstag  november  krankenhaus fÃ¼hrt opera...</td>\n",
       "      <td>german</td>\n",
       "      <td>der-postillon.com</td>\n",
       "      <td>https://1.bp.blogspot.com/-m1sd0MbuhVM/WCxKK-8...</td>\n",
       "      <td>3</td>\n",
       "      <td>Fake</td>\n",
       "      <td>neue app ruft automatisch bei ex sobald man be...</td>\n",
       "      <td>donnerstag november endlich essotankstellen bi...</td>\n",
       "      <td>1.0</td>\n",
       "    </tr>\n",
       "    <tr>\n",
       "      <th>Paul Joseph Watson</th>\n",
       "      <td>2016-10-28T15:51:01.860+03:00</td>\n",
       "      <td>a vote for hillary is a vote for world war</td>\n",
       "      <td>putin mocks clinton claim of russia election m...</td>\n",
       "      <td>english</td>\n",
       "      <td>infowars.com</td>\n",
       "      <td>http://hw.infowars.com/wp-content/uploads/2016...</td>\n",
       "      <td>1</td>\n",
       "      <td>Fake</td>\n",
       "      <td>schools america closing election day due fears...</td>\n",
       "      <td>homeless woman protects trumps walk fame star ...</td>\n",
       "      <td>1.0</td>\n",
       "    </tr>\n",
       "  </tbody>\n",
       "</table>\n",
       "</div>"
      ],
      "text/plain": [
       "                                                         published  \\\n",
       "author                                                               \n",
       "No Author                            2016-10-26T23:00:04.634+03:00   \n",
       "Michael Snyder                       2016-11-14T07:38:52.491+02:00   \n",
       "Admin                                2016-10-28T23:31:00.000+03:00   \n",
       "noreply@blogger.com (Der Postillon)  2016-11-16T10:36:37.549+02:00   \n",
       "Paul Joseph Watson                   2016-10-28T15:51:01.860+03:00   \n",
       "\n",
       "                                                                                 title  \\\n",
       "author                                                                                   \n",
       "No Author                            us support emboldens israel to defy intl law a...   \n",
       "Michael Snyder                       democrats are now calling for a revolution in ...   \n",
       "Admin                                jury finds all oregon standoff defendants not ...   \n",
       "noreply@blogger.com (Der Postillon)                                         newsticker   \n",
       "Paul Joseph Watson                          a vote for hillary is a vote for world war   \n",
       "\n",
       "                                                                                  text  \\\n",
       "author                                                                                   \n",
       "No Author                            kashmiris observes black day decades after ind...   \n",
       "Michael Snyder                       illegal immigrants are flooding across america...   \n",
       "Admin                                indian country  by theresa braine \\nmore detai...   \n",
       "noreply@blogger.com (Der Postillon)  donnerstag  november  krankenhaus fÃ¼hrt opera...   \n",
       "Paul Joseph Watson                   putin mocks clinton claim of russia election m...   \n",
       "\n",
       "                                    language                        site_url  \\\n",
       "author                                                                         \n",
       "No Author                            english                      presstv.ir   \n",
       "Michael Snyder                       english     theeconomiccollapseblog.com   \n",
       "Admin                                english  fromthetrenchesworldreport.com   \n",
       "noreply@blogger.com (Der Postillon)   german               der-postillon.com   \n",
       "Paul Joseph Watson                   english                    infowars.com   \n",
       "\n",
       "                                                                          main_img_url  \\\n",
       "author                                                                                   \n",
       "No Author                            http://media.presstv.com/photo/20161026/b1a157...   \n",
       "Michael Snyder                       http://theeconomiccollapseblog.com/wp-content/...   \n",
       "Admin                                http://www.fromthetrenchesworldreport.com/wp-c...   \n",
       "noreply@blogger.com (Der Postillon)  https://1.bp.blogspot.com/-m1sd0MbuhVM/WCxKK-8...   \n",
       "Paul Joseph Watson                   http://hw.infowars.com/wp-content/uploads/2016...   \n",
       "\n",
       "                                     type label  \\\n",
       "author                                            \n",
       "No Author                               7  Real   \n",
       "Michael Snyder                          3  Fake   \n",
       "Admin                                   3  Fake   \n",
       "noreply@blogger.com (Der Postillon)     3  Fake   \n",
       "Paul Joseph Watson                      1  Fake   \n",
       "\n",
       "                                                               title_without_stopwords  \\\n",
       "author                                                                                   \n",
       "No Author                                     magnitude earthquake jolts central italy   \n",
       "Michael Snyder                       donald trump must shut federal reserve start i...   \n",
       "Admin                                trump clinton went jeffrey epsteins sex slave ...   \n",
       "noreply@blogger.com (Der Postillon)  neue app ruft automatisch bei ex sobald man be...   \n",
       "Paul Joseph Watson                   schools america closing election day due fears...   \n",
       "\n",
       "                                                                text_without_stopwords  \\\n",
       "author                                                                                   \n",
       "No Author                            iraq iraqi forces gather near village sin aldh...   \n",
       "Michael Snyder                       would want listen advice someone like steven s...   \n",
       "Admin                                jewish pirates caribbean october daniel greenf...   \n",
       "noreply@blogger.com (Der Postillon)  donnerstag november endlich essotankstellen bi...   \n",
       "Paul Joseph Watson                   homeless woman protects trumps walk fame star ...   \n",
       "\n",
       "                                     hasImage  \n",
       "author                                         \n",
       "No Author                                 1.0  \n",
       "Michael Snyder                            1.0  \n",
       "Admin                                     1.0  \n",
       "noreply@blogger.com (Der Postillon)       1.0  \n",
       "Paul Joseph Watson                        1.0  "
      ]
     },
     "execution_count": 14,
     "metadata": {},
     "output_type": "execute_result"
    }
   ],
   "source": [
    "df1 = df.sample(frac=1)\n",
    "df1.head()"
   ]
  },
  {
   "cell_type": "code",
   "execution_count": 18,
   "metadata": {},
   "outputs": [],
   "source": [
    "y = df1.type\n",
    "x = df1.loc[:, ['site_url','text_without_stopwords']]\n",
    "x['source'] = x['site_url'].astype(str) + \" \"+x[\"text_without_stopwords\"]\n",
    "x = x.drop(['site_url', 'text_without_stopwords'], axis=1)\n",
    "x = x.source"
   ]
  },
  {
   "cell_type": "code",
   "execution_count": 27,
   "metadata": {},
   "outputs": [
    {
     "data": {
      "text/html": [
       "<style>#sk-container-id-2 {color: black;}#sk-container-id-2 pre{padding: 0;}#sk-container-id-2 div.sk-toggleable {background-color: white;}#sk-container-id-2 label.sk-toggleable__label {cursor: pointer;display: block;width: 100%;margin-bottom: 0;padding: 0.3em;box-sizing: border-box;text-align: center;}#sk-container-id-2 label.sk-toggleable__label-arrow:before {content: \"▸\";float: left;margin-right: 0.25em;color: #696969;}#sk-container-id-2 label.sk-toggleable__label-arrow:hover:before {color: black;}#sk-container-id-2 div.sk-estimator:hover label.sk-toggleable__label-arrow:before {color: black;}#sk-container-id-2 div.sk-toggleable__content {max-height: 0;max-width: 0;overflow: hidden;text-align: left;background-color: #f0f8ff;}#sk-container-id-2 div.sk-toggleable__content pre {margin: 0.2em;color: black;border-radius: 0.25em;background-color: #f0f8ff;}#sk-container-id-2 input.sk-toggleable__control:checked~div.sk-toggleable__content {max-height: 200px;max-width: 100%;overflow: auto;}#sk-container-id-2 input.sk-toggleable__control:checked~label.sk-toggleable__label-arrow:before {content: \"▾\";}#sk-container-id-2 div.sk-estimator input.sk-toggleable__control:checked~label.sk-toggleable__label {background-color: #d4ebff;}#sk-container-id-2 div.sk-label input.sk-toggleable__control:checked~label.sk-toggleable__label {background-color: #d4ebff;}#sk-container-id-2 input.sk-hidden--visually {border: 0;clip: rect(1px 1px 1px 1px);clip: rect(1px, 1px, 1px, 1px);height: 1px;margin: -1px;overflow: hidden;padding: 0;position: absolute;width: 1px;}#sk-container-id-2 div.sk-estimator {font-family: monospace;background-color: #f0f8ff;border: 1px dotted black;border-radius: 0.25em;box-sizing: border-box;margin-bottom: 0.5em;}#sk-container-id-2 div.sk-estimator:hover {background-color: #d4ebff;}#sk-container-id-2 div.sk-parallel-item::after {content: \"\";width: 100%;border-bottom: 1px solid gray;flex-grow: 1;}#sk-container-id-2 div.sk-label:hover label.sk-toggleable__label {background-color: #d4ebff;}#sk-container-id-2 div.sk-serial::before {content: \"\";position: absolute;border-left: 1px solid gray;box-sizing: border-box;top: 0;bottom: 0;left: 50%;z-index: 0;}#sk-container-id-2 div.sk-serial {display: flex;flex-direction: column;align-items: center;background-color: white;padding-right: 0.2em;padding-left: 0.2em;position: relative;}#sk-container-id-2 div.sk-item {position: relative;z-index: 1;}#sk-container-id-2 div.sk-parallel {display: flex;align-items: stretch;justify-content: center;background-color: white;position: relative;}#sk-container-id-2 div.sk-item::before, #sk-container-id-2 div.sk-parallel-item::before {content: \"\";position: absolute;border-left: 1px solid gray;box-sizing: border-box;top: 0;bottom: 0;left: 50%;z-index: -1;}#sk-container-id-2 div.sk-parallel-item {display: flex;flex-direction: column;z-index: 1;position: relative;background-color: white;}#sk-container-id-2 div.sk-parallel-item:first-child::after {align-self: flex-end;width: 50%;}#sk-container-id-2 div.sk-parallel-item:last-child::after {align-self: flex-start;width: 50%;}#sk-container-id-2 div.sk-parallel-item:only-child::after {width: 0;}#sk-container-id-2 div.sk-dashed-wrapped {border: 1px dashed gray;margin: 0 0.4em 0.5em 0.4em;box-sizing: border-box;padding-bottom: 0.4em;background-color: white;}#sk-container-id-2 div.sk-label label {font-family: monospace;font-weight: bold;display: inline-block;line-height: 1.2em;}#sk-container-id-2 div.sk-label-container {text-align: center;}#sk-container-id-2 div.sk-container {/* jupyter's `normalize.less` sets `[hidden] { display: none; }` but bootstrap.min.css set `[hidden] { display: none !important; }` so we also need the `!important` here to be able to override the default hidden behavior on the sphinx rendered scikit-learn.org. See: https://github.com/scikit-learn/scikit-learn/issues/21755 */display: inline-block !important;position: relative;}#sk-container-id-2 div.sk-text-repr-fallback {display: none;}</style><div id=\"sk-container-id-2\" class=\"sk-top-container\"><div class=\"sk-text-repr-fallback\"><pre>TfidfVectorizer(stop_words=&#x27;english&#x27;)</pre><b>In a Jupyter environment, please rerun this cell to show the HTML representation or trust the notebook. <br />On GitHub, the HTML representation is unable to render, please try loading this page with nbviewer.org.</b></div><div class=\"sk-container\" hidden><div class=\"sk-item\"><div class=\"sk-estimator sk-toggleable\"><input class=\"sk-toggleable__control sk-hidden--visually\" id=\"sk-estimator-id-2\" type=\"checkbox\" checked><label for=\"sk-estimator-id-2\" class=\"sk-toggleable__label sk-toggleable__label-arrow\">TfidfVectorizer</label><div class=\"sk-toggleable__content\"><pre>TfidfVectorizer(stop_words=&#x27;english&#x27;)</pre></div></div></div></div></div>"
      ],
      "text/plain": [
       "TfidfVectorizer(stop_words='english')"
      ]
     },
     "execution_count": 27,
     "metadata": {},
     "output_type": "execute_result"
    }
   ],
   "source": [
    "x_train,x_test,y_train,y_test=train_test_split(x,y,test_size=0.30)\n",
    "\n",
    "tfidf_vect = TfidfVectorizer(stop_words = 'english')\n",
    "tfidf_train = tfidf_vect.fit_transform(x_train)\n",
    "tfidf_test = tfidf_vect.transform(x_test)\n",
    "tfidf_vect\n"
   ]
  },
  {
   "cell_type": "code",
   "execution_count": 28,
   "metadata": {},
   "outputs": [
    {
     "data": {
      "text/plain": [
       "(1431, 39287)"
      ]
     },
     "execution_count": 28,
     "metadata": {},
     "output_type": "execute_result"
    }
   ],
   "source": [
    "tfidf_train.shape"
   ]
  },
  {
   "cell_type": "code",
   "execution_count": 29,
   "metadata": {},
   "outputs": [
    {
     "name": "stdout",
     "output_type": "stream",
     "text": [
      "accuracy: 0.954\n"
     ]
    }
   ],
   "source": [
    "Adab = AdaBoostClassifier(DecisionTreeClassifier(max_depth=10),n_estimators=5,random_state=1)\n",
    "Adab.fit(tfidf_train, y_train)\n",
    "y_pred3 = Adab.predict(tfidf_test)\n",
    "ABscore = metrics.accuracy_score(y_test,y_pred3)\n",
    "print(\"accuracy: %0.3f\" %ABscore)"
   ]
  },
  {
   "cell_type": "code",
   "execution_count": 30,
   "metadata": {},
   "outputs": [
    {
     "name": "stdout",
     "output_type": "stream",
     "text": [
      "accuracy:  0.868\n"
     ]
    }
   ],
   "source": [
    "Rando = RandomForestClassifier(n_estimators=100,random_state=0)\n",
    "Rando.fit(tfidf_train,y_train)\n",
    "y_pred1 = Rando.predict(tfidf_test)\n",
    "RFscore = metrics.accuracy_score(y_test,y_pred1)\n",
    "print(\"accuracy:  %0.3f\" %RFscore)\n"
   ]
  },
  {
   "cell_type": "code",
   "execution_count": null,
   "metadata": {},
   "outputs": [],
   "source": []
  }
 ],
 "metadata": {
  "kernelspec": {
   "display_name": "base",
   "language": "python",
   "name": "python3"
  },
  "language_info": {
   "codemirror_mode": {
    "name": "ipython",
    "version": 3
   },
   "file_extension": ".py",
   "mimetype": "text/x-python",
   "name": "python",
   "nbconvert_exporter": "python",
   "pygments_lexer": "ipython3",
   "version": "3.11.5"
  }
 },
 "nbformat": 4,
 "nbformat_minor": 2
}
