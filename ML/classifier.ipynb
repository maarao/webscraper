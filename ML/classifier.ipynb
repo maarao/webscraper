{
 "cells": [
  {
   "cell_type": "code",
   "execution_count": 1,
   "metadata": {},
   "outputs": [],
   "source": [
    "import pandas as pd\n",
    "import matplotlib.pyplot as plt\n",
    "import cufflinks as cf\n",
    "import plotly\n",
    "import plotly.express as px\n",
    "import seaborn as sns\n",
    "\n",
    "import nltk\n",
    "import nltk.stem\n",
    "import nltk.corpus \n",
    "from nltk.corpus import stopwords\n",
    "nltk.download('stopwords')\n",
    "nltk.download('wordnet')\n",
    "nltk.download('omw-1.4')\n",
    "\n",
    "from IPython.core.display import HTML\n",
    "from wordcloud import WordCloud\n",
    "from sklearn.feature_extraction import text\n",
    "from sklearn.feature_extraction.text import TfidfVectorizer\n",
    "from sklearn.model_selection import train_test_split\n",
    "from sklearn import metrics\n",
    "from sklearn.ensemble import RandomForestClassifier, AdaBoostClassifier\n",
    "from sklearn.tree import DecisionTreeClassifier\n",
    "from datetime import datetime\n",
    "from sklearn.feature_extraction.text import CountVectorizer\n",
    "from pandas import DataFrame\n",
    "from collections import OrderedDict \n",
    "from colorama import Fore, Back, Style\n",
    "y_ = Fore.YELLOW\n",
    "r_ = Fore.RED\n",
    "g_ = Fore.GREEN\n",
    "b_ = Fore.BLUE\n",
    "m_ = Fore.MAGENTA\n",
    "sr_ = Style.RESET_ALL"
   ]
  },
  {
   "cell_type": "code",
   "execution_count": 2,
   "metadata": {},
   "outputs": [
    {
     "data": {
      "text/plain": [
       "published                  2045\n",
       "title                      2045\n",
       "text                       2045\n",
       "language                   2045\n",
       "site_url                   2045\n",
       "main_img_url               2045\n",
       "type                       2045\n",
       "label                      2045\n",
       "title_without_stopwords    2045\n",
       "text_without_stopwords     2045\n",
       "hasImage                   2045\n",
       "dtype: int64"
      ]
     },
     "execution_count": 2,
     "metadata": {},
     "output_type": "execute_result"
    }
   ],
   "source": [
    "df = pd.read_csv(r'./data/news_articles.csv', encoding=\"latin\", index_col=0)\n",
    "df = df.dropna()\n",
    "df.count()"
   ]
  },
  {
   "cell_type": "code",
   "execution_count": 3,
   "metadata": {},
   "outputs": [
    {
     "data": {
      "text/plain": [
       "array(['bias', 'conspiracy', 'fake', 'bs', 'satire', 'hate', 'junksci',\n",
       "       'state'], dtype=object)"
      ]
     },
     "execution_count": 3,
     "metadata": {},
     "output_type": "execute_result"
    }
   ],
   "source": [
    "df['type'].unique()"
   ]
  },
  {
   "cell_type": "code",
   "execution_count": 4,
   "metadata": {},
   "outputs": [
    {
     "data": {
      "text/html": [
       "        <script type=\"text/javascript\">\n",
       "        window.PlotlyConfig = {MathJaxConfig: 'local'};\n",
       "        if (window.MathJax && window.MathJax.Hub && window.MathJax.Hub.Config) {window.MathJax.Hub.Config({SVG: {font: \"STIX-Web\"}});}\n",
       "        if (typeof require !== 'undefined') {\n",
       "        require.undef(\"plotly\");\n",
       "        requirejs.config({\n",
       "            paths: {\n",
       "                'plotly': ['https://cdn.plot.ly/plotly-2.12.1.min']\n",
       "            }\n",
       "        });\n",
       "        require(['plotly'], function(Plotly) {\n",
       "            window._Plotly = Plotly;\n",
       "        });\n",
       "        }\n",
       "        </script>\n",
       "        "
      ]
     },
     "metadata": {},
     "output_type": "display_data"
    }
   ],
   "source": [
    "cf.go_offline()\n",
    "cf.set_config_file(offline=False, world_readable=True)\n"
   ]
  },
  {
   "cell_type": "markdown",
   "metadata": {},
   "source": [
    "### **Required**\n",
    "#### Run One time"
   ]
  },
  {
   "cell_type": "code",
   "execution_count": 5,
   "metadata": {},
   "outputs": [],
   "source": [
    "type1 = {'bias': 0, 'conspiracy': 1,'fake': 2,'bs': 3,'satire': 4, 'hate': 5,'junksci': 6, 'state': 7}\n",
    "df.type = [type1[item] for item in df.type] "
   ]
  },
  {
   "cell_type": "code",
   "execution_count": 6,
   "metadata": {},
   "outputs": [],
   "source": [
    "def plot_bar(df, feat_x, feat_y, normalize=True):\n",
    "    \"\"\" Plot with vertical bars of the requested dataframe and features\"\"\"\n",
    "    \n",
    "    ct = pd.crosstab(df[feat_x], df[feat_y])\n",
    "    if normalize == True:\n",
    "        ct = ct.div(ct.sum(axis=1), axis=0)\n",
    "    return ct.plot(kind='bar', stacked=True)"
   ]
  },
  {
   "cell_type": "code",
   "execution_count": 7,
   "metadata": {},
   "outputs": [
    {
     "data": {
      "image/png": "[encoded data removed]",
      "text/plain": [
       "<Figure size 640x480 with 1 Axes>"
      ]
     },
     "metadata": {},
     "output_type": "display_data"
    }
   ],
   "source": [
    "plot_bar(df,'type' , 'label')\n",
    "plt.show()"
   ]
  },
  {
   "cell_type": "markdown",
   "metadata": {},
   "source": [
    "### **Required**"
   ]
  },
  {
   "cell_type": "code",
   "execution_count": 8,
   "metadata": {},
   "outputs": [
    {
     "data": {
      "text/html": [
       "<div>\n",
       "<style scoped>\n",
       "    .dataframe tbody tr th:only-of-type {\n",
       "        vertical-align: middle;\n",
       "    }\n",
       "\n",
       "    .dataframe tbody tr th {\n",
       "        vertical-align: top;\n",
       "    }\n",
       "\n",
       "    .dataframe thead th {\n",
       "        text-align: right;\n",
       "    }\n",
       "</style>\n",
       "<table border=\"1\" class=\"dataframe\">\n",
       "  <thead>\n",
       "    <tr style=\"text-align: right;\">\n",
       "      <th></th>\n",
       "      <th>published</th>\n",
       "      <th>title</th>\n",
       "      <th>text</th>\n",
       "      <th>language</th>\n",
       "      <th>site_url</th>\n",
       "      <th>main_img_url</th>\n",
       "      <th>type</th>\n",
       "      <th>label</th>\n",
       "      <th>title_without_stopwords</th>\n",
       "      <th>text_without_stopwords</th>\n",
       "      <th>hasImage</th>\n",
       "    </tr>\n",
       "    <tr>\n",
       "      <th>author</th>\n",
       "      <th></th>\n",
       "      <th></th>\n",
       "      <th></th>\n",
       "      <th></th>\n",
       "      <th></th>\n",
       "      <th></th>\n",
       "      <th></th>\n",
       "      <th></th>\n",
       "      <th></th>\n",
       "      <th></th>\n",
       "      <th></th>\n",
       "    </tr>\n",
       "  </thead>\n",
       "  <tbody>\n",
       "    <tr>\n",
       "      <th>No Author</th>\n",
       "      <td>2016-10-27T03:27:17.846+03:00</td>\n",
       "      <td>erste bank open murray beats klizan</td>\n",
       "      <td>fastest electric commuter ferry unveiled in sw...</td>\n",
       "      <td>english</td>\n",
       "      <td>presstv.ir</td>\n",
       "      <td>http://media.presstv.com/photo/20161027/4d201e...</td>\n",
       "      <td>7</td>\n",
       "      <td>Real</td>\n",
       "      <td>israel settlements legal trump aide says playi...</td>\n",
       "      <td>politics iranian foreign minister mohammad jav...</td>\n",
       "      <td>1.0</td>\n",
       "    </tr>\n",
       "    <tr>\n",
       "      <th>No Author</th>\n",
       "      <td>2016-10-28T03:27:00.000+03:00</td>\n",
       "      <td>trump accuses obama hillary clinton of foundin...</td>\n",
       "      <td>email \\nthe second presidential debate flew of...</td>\n",
       "      <td>english</td>\n",
       "      <td>awdnews.com</td>\n",
       "      <td>http://awdnews.com/images/147759640151aefcd3f-...</td>\n",
       "      <td>1</td>\n",
       "      <td>Fake</td>\n",
       "      <td>trump accuses obama hillary clinton founding d...</td>\n",
       "      <td>email second presidential debate flew rails su...</td>\n",
       "      <td>1.0</td>\n",
       "    </tr>\n",
       "    <tr>\n",
       "      <th>Alex Ansary</th>\n",
       "      <td>2016-10-31T19:54:37.919+02:00</td>\n",
       "      <td>wikileaks assange promises hillarys arrest wit...</td>\n",
       "      <td>carter reveals upgrades to us long range rocke...</td>\n",
       "      <td>english</td>\n",
       "      <td>amtvmedia.com</td>\n",
       "      <td>http://www.amtvmedia.com/wp-content/uploads/20...</td>\n",
       "      <td>3</td>\n",
       "      <td>Fake</td>\n",
       "      <td>wikileaks assange promises hillarys arrest nex...</td>\n",
       "      <td>carter reveals upgrades us long range rocket s...</td>\n",
       "      <td>1.0</td>\n",
       "    </tr>\n",
       "    <tr>\n",
       "      <th>Kim Petersen</th>\n",
       "      <td>2016-11-07T02:00:00.000+02:00</td>\n",
       "      <td>political prisoner takes on us militaryindustr...</td>\n",
       "      <td>if you cant give something away change is need...</td>\n",
       "      <td>english</td>\n",
       "      <td>ahtribune.com</td>\n",
       "      <td>http://ahtribune.com/images/media/Julian_Assan...</td>\n",
       "      <td>3</td>\n",
       "      <td>Fake</td>\n",
       "      <td>political prisoner takes us militaryindustrial...</td>\n",
       "      <td>cant give something away change needed httpwww...</td>\n",
       "      <td>1.0</td>\n",
       "    </tr>\n",
       "    <tr>\n",
       "      <th>Dr. Patrick Slattery</th>\n",
       "      <td>2016-11-09T20:23:49.158+02:00</td>\n",
       "      <td>dr david duke and pastor dankof discuss the ma...</td>\n",
       "      <td>views share \\ndr david duke releases an inter...</td>\n",
       "      <td>english</td>\n",
       "      <td>davidduke.com</td>\n",
       "      <td>https://s0.wp.com/i/blank.jpg</td>\n",
       "      <td>5</td>\n",
       "      <td>Real</td>\n",
       "      <td>dr david duke pastor dankof discuss magnificen...</td>\n",
       "      <td>views share dr david duke releases interview u...</td>\n",
       "      <td>1.0</td>\n",
       "    </tr>\n",
       "  </tbody>\n",
       "</table>\n",
       "</div>"
      ],
      "text/plain": [
       "                                          published  \\\n",
       "author                                                \n",
       "No Author             2016-10-27T03:27:17.846+03:00   \n",
       "No Author             2016-10-28T03:27:00.000+03:00   \n",
       "Alex Ansary           2016-10-31T19:54:37.919+02:00   \n",
       "Kim Petersen          2016-11-07T02:00:00.000+02:00   \n",
       "Dr. Patrick Slattery  2016-11-09T20:23:49.158+02:00   \n",
       "\n",
       "                                                                  title  \\\n",
       "author                                                                    \n",
       "No Author                           erste bank open murray beats klizan   \n",
       "No Author             trump accuses obama hillary clinton of foundin...   \n",
       "Alex Ansary           wikileaks assange promises hillarys arrest wit...   \n",
       "Kim Petersen          political prisoner takes on us militaryindustr...   \n",
       "Dr. Patrick Slattery  dr david duke and pastor dankof discuss the ma...   \n",
       "\n",
       "                                                                   text  \\\n",
       "author                                                                    \n",
       "No Author             fastest electric commuter ferry unveiled in sw...   \n",
       "No Author             email \\nthe second presidential debate flew of...   \n",
       "Alex Ansary           carter reveals upgrades to us long range rocke...   \n",
       "Kim Petersen          if you cant give something away change is need...   \n",
       "Dr. Patrick Slattery   views share \\ndr david duke releases an inter...   \n",
       "\n",
       "                     language       site_url  \\\n",
       "author                                         \n",
       "No Author             english     presstv.ir   \n",
       "No Author             english    awdnews.com   \n",
       "Alex Ansary           english  amtvmedia.com   \n",
       "Kim Petersen          english  ahtribune.com   \n",
       "Dr. Patrick Slattery  english  davidduke.com   \n",
       "\n",
       "                                                           main_img_url  type  \\\n",
       "author                                                                          \n",
       "No Author             http://media.presstv.com/photo/20161027/4d201e...     7   \n",
       "No Author             http://awdnews.com/images/147759640151aefcd3f-...     1   \n",
       "Alex Ansary           http://www.amtvmedia.com/wp-content/uploads/20...     3   \n",
       "Kim Petersen          http://ahtribune.com/images/media/Julian_Assan...     3   \n",
       "Dr. Patrick Slattery                      https://s0.wp.com/i/blank.jpg     5   \n",
       "\n",
       "                     label                            title_without_stopwords  \\\n",
       "author                                                                          \n",
       "No Author             Real  israel settlements legal trump aide says playi...   \n",
       "No Author             Fake  trump accuses obama hillary clinton founding d...   \n",
       "Alex Ansary           Fake  wikileaks assange promises hillarys arrest nex...   \n",
       "Kim Petersen          Fake  political prisoner takes us militaryindustrial...   \n",
       "Dr. Patrick Slattery  Real  dr david duke pastor dankof discuss magnificen...   \n",
       "\n",
       "                                                 text_without_stopwords  \\\n",
       "author                                                                    \n",
       "No Author             politics iranian foreign minister mohammad jav...   \n",
       "No Author             email second presidential debate flew rails su...   \n",
       "Alex Ansary           carter reveals upgrades us long range rocket s...   \n",
       "Kim Petersen          cant give something away change needed httpwww...   \n",
       "Dr. Patrick Slattery  views share dr david duke releases interview u...   \n",
       "\n",
       "                      hasImage  \n",
       "author                          \n",
       "No Author                  1.0  \n",
       "No Author                  1.0  \n",
       "Alex Ansary                1.0  \n",
       "Kim Petersen               1.0  \n",
       "Dr. Patrick Slattery       1.0  "
      ]
     },
     "execution_count": 8,
     "metadata": {},
     "output_type": "execute_result"
    }
   ],
   "source": [
    "df1 = df.sample(frac=1)\n",
    "df1.head()"
   ]
  },
  {
   "cell_type": "code",
   "execution_count": 35,
   "metadata": {},
   "outputs": [
    {
     "name": "stdout",
     "output_type": "stream",
     "text": [
      "author\n",
      "No Author               presstv.ir politics iranian foreign minister m...\n",
      "No Author               awdnews.com email second presidential debate f...\n",
      "Alex Ansary             amtvmedia.com carter reveals upgrades us long ...\n",
      "Kim Petersen            ahtribune.com cant give something away change ...\n",
      "Dr. Patrick Slattery    davidduke.com views share dr david duke releas...\n",
      "                                              ...                        \n",
      "No Author               presstv.ir news bulletin shea weber montreal c...\n",
      "admin                   prisonplanet.com latest hacked email released ...\n",
      "crazyewok               abovetopsecret.com well finally big global bus...\n",
      "Isaac Davis             dcclothesline.com posted tim brown monday man ...\n",
      "Phyllis Chesler         frontpagemag.com weiner sexting yearold girl l...\n",
      "Name: source, Length: 2045, dtype: object\n"
     ]
    }
   ],
   "source": [
    "y = df1['type']\n",
    "x = df1.loc[:, ['site_url','text_without_stopwords']]\n",
    "x['source'] = x['site_url'].astype(str) + \" \"+x[\"text_without_stopwords\"]\n",
    "x = x.drop(['site_url', 'text_without_stopwords'], axis=1)\n",
    "x = x.source\n",
    "print(x)"
   ]
  },
  {
   "cell_type": "code",
   "execution_count": 65,
   "metadata": {},
   "outputs": [
    {
     "data": {
      "text/plain": [
       "'legorafi.fr keywords food packaging packaging one major reasons lots people choose organic foods avoid exposure chemicals however organic foods beans often come packaging done well lots chemicals present greatly interfere normal physiology especially wrong choice packaging company various types food packaging possibly leach compounds food investigate packaging kitchen youll observe lot materials concerned regardless possibility youre part real food type individual presumably canned merchandise oats pastas granola bars packaged plastic bags plastic wrap plastic storage washroom far food refreshment cans seem accounts made metals like steel aluminum reality lined bpa bps deplorable substitutes like polyvinyl chloride pvc contains known cancercausing agent vinyl chloride canned soup soda significantly seltzer juices likely exposing bpa different compounds youre ideal situation ingesting even packaging made evidently amiable paper might lined chemicals concern like pfass found pizza boxes wrapping slick takeout food extra chemicals flame retardants bpa worked way paper packaging laudable efforts recycle paper presented variety different contaminants environmental working group ewg added yet another database arsenal chemical data consumers permitting individuals need avoid exposure toxins check bpa food packaging built database since contend consumers right recognize whats food particularly regards ingredient example bpa linked cancer infertility mind nervous system cardiovascular abnormalities diabetes obesity different genuine disorders theres simple route average consumer discover food stuffed little research demonstrating amount chemicals migrate food wholefood unpackaged eating regimen best safeguard chemicals packaging also important check reputation packaging company positively negatively rated since large number unknowns regards packaging solid option avoid conceivable proper packaging go long way ensuring retain health body one key things making packaging safe entrusting packaging company knows importance eliminating chemicals food stuffs packaging companies careful dealing food packaging foods wrongly without proper care pose risk health ruin name packaging company ways drastically reduce harm may arise food packaging point conceivable avoid canned foods beverages plastic wrap plastic bottles instead pick glass cook beans must buy look reputable packaging companies accomplish greater amount food preservation lessen exposure packaging chemicals go dehydrating gardens harvest storing glass containers avoid putting hot food plastic storage containers heating foods packaged plastic microwave plastics significantly inclined leach chemicals heated experts recommend keeping plastics dishwasher following measures go long way ensuring consume chemicals risky health author bio karen cole freelance writer health beauty niche currently research food packaging wwwallinpackagingcouk helping lot completing research hope like post might also like'"
      ]
     },
     "execution_count": 65,
     "metadata": {},
     "output_type": "execute_result"
    }
   ],
   "source": [
    "x_train,x_test,y_train,y_test=train_test_split(x,y,test_size=0.30)\n",
    "\n",
    "tfidf_vect = TfidfVectorizer(stop_words = 'english')\n",
    "tfidf_train = tfidf_vect.fit_transform(x_train)\n",
    "tfidf_test = tfidf_vect.transform(x_test)\n",
    "x_train[1]\n"
   ]
  },
  {
   "cell_type": "code",
   "execution_count": 11,
   "metadata": {},
   "outputs": [
    {
     "data": {
      "text/plain": [
       "(1431, 39268)"
      ]
     },
     "execution_count": 11,
     "metadata": {},
     "output_type": "execute_result"
    }
   ],
   "source": [
    "tfidf_train.shape"
   ]
  },
  {
   "cell_type": "code",
   "execution_count": 29,
   "metadata": {},
   "outputs": [
    {
     "name": "stdout",
     "output_type": "stream",
     "text": [
      "accuracy: 0.954\n"
     ]
    }
   ],
   "source": [
    "Adab = AdaBoostClassifier(DecisionTreeClassifier(max_depth=10),n_estimators=5,random_state=1)\n",
    "Adab.fit(tfidf_train, y_train)\n",
    "y_pred3 = Adab.predict(tfidf_test)\n",
    "ABscore = metrics.accuracy_score(y_test,y_pred3)\n",
    "print(\"accuracy: %0.3f\" %ABscore)"
   ]
  },
  {
   "cell_type": "code",
   "execution_count": 86,
   "metadata": {},
   "outputs": [
    {
     "name": "stdout",
     "output_type": "stream",
     "text": [
      "accuracy:  0.878\n",
      "[3 3 0 1 1 1 0 0 0 7 3 0 3 5 0 3 3 5 1 3 0 1 3 0 3 3 3 3 3 3 3 3 1 0 3 5 0\n",
      " 4 3 1 7 0 1 3 3 3 3 1 4 5 3 0 5 5 3 1 5 3 5 0 3 0 3 3 3 0 1 3 3 3 3 7 3 3\n",
      " 3 3 0 0 5 3 1 5 0 3 3 3 5 3 4 4 6 1 0 0 3 3 1 3 1 3 1 4 3 3 0 3 5 5 5 3 0\n",
      " 0 5 3 7 3 1 3 1 0 1 5 4 4 0 4 4 3 3 5 3 0 3 1 0 5 1 3 7 1 5 5 1 3 4 3 0 3\n",
      " 3 1 6 3 7 0 0 3 4 6 3 3 1 0 0 5 7 4 3 3 0 3 1 7 3 5 3 0 0 5 3 3 1 1 4 1 1\n",
      " 3 3 7 4 3 5 3 3 3 3 3 3 1 3 1 4 0 5 0 3 1 1 3 3 3 3 3 3 3 3 3 3 5 7 0 0 6\n",
      " 0 3 1 1 1 5 0 0 3 1 5 1 0 5 1 3 3 3 0 1 3 1 4 5 1 0 1 6 3 7 7 0 1 3 1 1 3\n",
      " 1 4 0 3 3 3 0 3 1 1 3 0 0 0 3 0 1 3 3 0 3 1 0 5 0 0 0 3 3 1 1 3 0 1 3 4 1\n",
      " 1 3 0 1 0 6 6 5 3 3 0 0 3 1 3 5 5 4 3 5 0 7 3 3 0 7 0 0 0 3 3 7 3 4 5 3 0\n",
      " 5 1 2 3 5 1 4 3 0 5 0 3 7 3 1 0 1 0 0 0 0 0 1 1 6 3 3 0 5 0 1 3 7 0 0 3 4\n",
      " 3 7 5 1 0 1 5 3 6 0 0 3 3 1 1 3 1 3 4 3 4 0 7 3 3 3 6 1 3 4 5 0 3 3 3 3 3\n",
      " 6 1 1 3 1 3 3 0 1 1 3 0 3 4 3 1 3 1 6 3 4 1 0 1 0 4 3 3 5 1 3 3 3 5 3 0 7\n",
      " 3 5 7 1 0 5 1 3 1 1 0 5 7 3 5 3 3 0 3 0 0 3 3 1 4 3 3 0 3 3 1 3 5 3 5 7 0\n",
      " 0 1 3 0 1 3 0 1 3 3 3 0 0 0 0 1 3 1 3 0 3 0 3 1 0 3 4 4 3 5 1 5 3 1 1 0 1\n",
      " 5 1 1 0 1 0 5 0 1 1 3 3 1 0 1 3 3 3 1 0 3 3 1 1 4 1 0 0 3 1 3 3 1 3 3 4 1\n",
      " 3 5 3 3 3 5 1 3 3 4 4 0 1 3 3 3 3 0 0 3 4 1 1 5 2 5 0 5 3 7 3 6 0 0 5 3 4\n",
      " 3 1 0 1 1 1 3 3 6 6 1 3 1 0 7 5 0 3 0 1 7 3]\n"
     ]
    }
   ],
   "source": [
    "Rando = RandomForestClassifier(n_estimators=100,random_state=0)\n",
    "Rando.fit(tfidf_train,y_train)\n",
    "y_pred1 = Rando.predict(tfidf_test)\n",
    "RFscore = metrics.accuracy_score(y_test,y_pred1)\n",
    "print(\"accuracy:  %0.3f\" %RFscore)\n",
    "print(y_pred1)\n"
   ]
  },
  {
   "cell_type": "code",
   "execution_count": 74,
   "metadata": {},
   "outputs": [
    {
     "name": "stderr",
     "output_type": "stream",
     "text": [
      "[nltk_data] Downloading package punkt to\n",
      "[nltk_data]     C:\\Users\\simon\\AppData\\Roaming\\nltk_data...\n",
      "[nltk_data]   Package punkt is already up-to-date!\n",
      "[nltk_data] Downloading package stopwords to\n",
      "[nltk_data]     C:\\Users\\simon\\AppData\\Roaming\\nltk_data...\n",
      "[nltk_data]   Package stopwords is already up-to-date!\n",
      "[nltk_data] Downloading package wordnet to\n",
      "[nltk_data]     C:\\Users\\simon\\AppData\\Roaming\\nltk_data...\n",
      "[nltk_data]   Package wordnet is already up-to-date!\n",
      "[nltk_data] Downloading package averaged_perceptron_tagger to\n",
      "[nltk_data]     C:\\Users\\simon\\AppData\\Roaming\\nltk_data...\n",
      "[nltk_data]   Package averaged_perceptron_tagger is already up-to-\n",
      "[nltk_data]       date!\n"
     ]
    },
    {
     "data": {
      "text/plain": [
       "True"
      ]
     },
     "execution_count": 74,
     "metadata": {},
     "output_type": "execute_result"
    }
   ],
   "source": [
    "import nltk\n",
    "from nltk.corpus import stopwords\n",
    "from nltk.stem import PorterStemmer, WordNetLemmatizer\n",
    "from nltk.tokenize import word_tokenize, sent_tokenize\n",
    "from nltk import pos_tag\n",
    "import string\n",
    "import re\n",
    "\n",
    "nltk.download('punkt')\n",
    "nltk.download('stopwords')\n",
    "nltk.download('wordnet')\n",
    "nltk.download('averaged_perceptron_tagger')\n"
   ]
  },
  {
   "cell_type": "code",
   "execution_count": 83,
   "metadata": {},
   "outputs": [
    {
     "name": "stdout",
     "output_type": "stream",
     "text": [
      "john littlejohn december may english tradesman methodist preacher served sheriff loudoun county virginia war born penrith cumberland briefly attended trade school london returning penrith when around twelve years old littlejohn immigrated thirteen colonies pursue various apprenticeships tradesmen virginia maryland while particularly religious youth inspired methodist revivalist sermons began service circuit rider outbreak\n"
     ]
    }
   ],
   "source": [
    "def preprocess_text(text):\n",
    "\n",
    "    text = re.sub(r\"(@\\[A-Za-z0-9]+)|([^0-9A-Za-z \\t])|(\\w+:\\/\\/\\S+)|^rt|http.+?\", \"\", text)\n",
    "    # Tokenize the text into words\n",
    "    words = word_tokenize(text.lower())\n",
    "\n",
    "    words = [word for word in words if word not in string.punctuation]\n",
    "\n",
    "    # Remove stop words\n",
    "    stop_words = stopwords.words('english')\n",
    "    words = [word for word in text.split() if word not in (stop_words)]\n",
    "    words = \" \".join([word for word in words if word.isalpha()]).lower()    \n",
    "    \n",
    "    return words\n"
   ]
  },
  {
   "cell_type": "code",
   "execution_count": 85,
   "metadata": {},
   "outputs": [
    {
     "name": "stdout",
     "output_type": "stream",
     "text": [
      "john littlejohn december may english tradesman methodist preacher served sheriff loudoun county virginia war born penrith cumberland briefly attended trade school london returning penrith when around twelve years old littlejohn immigrated thirteen colonies pursue various apprenticeships tradesmen virginia maryland while particularly religious youth inspired methodist revivalist sermons began service circuit rider outbreak revolutionary warin preaching traveled across early united states including virginia maryland delaware washington dc after several years itinerancy settled leesburg virginia there served local preacher saddler several decades occasionally county magistrate sheriff tax collector as loudoun county sheriff british raid washington protected safehouse containing relocated national archives including constitution declaration independence in moved family kentucky served land agent preaching alongside work travel across state he retired logan county southern kentucky became slaveholder he died sixty years preachingjohn littlejohn born december welltodo anglican family town penrith cumberland one eight children initially attended latin school following collapse fathers business littlejohn father relocated london attended school became apprentice local tin manufacturer within year ran away traveling miles foot back mothers home penrith at around twelve became apprentice thomas broomfield shopkeeper based port tobacco maryland he crossed atlantic broomfield departing newcastle upon tyne aboard ship carrying convicts indentured servants a disease outbreak multiple deaths aboard prolonged journey the ship arrived st marys twentyone week passagea littlejohn traveled work port retrospectively journals littlejohn described frequently gambling playing cards early years thirteen colonies abandoning religious observances instilled in family followed colonies first staying prince georges county maryland his father died shortly immigrating littlejohn frequently changed apprenticeships youth traveling first northumberland county local saddler norfolk virginia apprentice harnessmaker named eldred fisher in norfolk littlejohn began selling private pornographic adventures captured cardinal birds sell local sailors using money gambling cockfighting fishers began attending revival preaching hearing sermon irish methodist preacher robert williams the mayor norfolk issued ban revivalist preaching claiming would incite slave rebellion due personal opposition slavery littlejohn greatly angered proclamation writing journal i man i would thrash mayor died littlejohn briefly stayed baltimore mother relocated following fathers death he began apprenticeship joseph selby annapolis maryland here began regular church attendance difficulties selby boarded tradesmen collected fines breaching household rules order supply alcohol parties in december seventeenyearold littlejohn appointed foreman manager store alexandria virginia began attending regular methodist preaching bosss littlejohn listened sermons several locally notable methodist ministers including john king circuit rider john sigman sigmans preaching especially affected littlejohn wrote his words got heart never tears gushed eyes voluntary water he began pray frequently reported intense dream attempted preach armed soldiers shut methodist revival norfolk pelted stones mob climbed timbers house littlejohn greatly inspired dream took divine signal future persecution methodists duty become preacher although continued struggle two months later october reported returning home evening preaching hearing voice call name another whispering thy sins forgiven thee arose initially took cautious outlook dream felt rush joy reassurance week later littlejohn confided sigman experience writing felt redeemed christian wished join methodist on november joined itinerant preacher william duke found alexandrias first methodist soon partnered two young methodists establish regular prayer circle large thatched pen falls church drawing several hundreds surrounding these activities led conflicts local magistrates anglican dismayed find strongly anglican mothers displeasure pursuit methodism depressed began fear preaching disgraced gospel considered drowning he ultimately continued duties reverend william watters appointing fairfax county circuit early in spring appointed accompanied watters berkeley circuit part west virginia setting later year traveled across much virginia preaching initially serving fairfax county reassigned southern virginia petersburg preaching various localities traveled in november wrote journal list nine resolutions follow daily including waking early possible avoiding discussion worldly matters reading bible daily such sets resolutions common methodist circuit preached large mixedrace assembly richmond cries exclamations black worshipers frightened white congregation littlejohn continued preaching allblack audience white attendees vacated littlejohn left virginia returned while baltimore circuit made trips york county pennsylvania preaching near new wish em loyalists safe country wt confidence british cause i feel mistaken american cause godsjohn littlejohn journal august revolutionary war began methodist preachers fell increasing scrutiny patriot authorities although methodists pacifists emphasis passive nonresistance led many refusing military service either military force american magistrates fined imprisoned many preaching refusal service believing john wesley methodists generally held loyalist sympathies in june anne arundel magistrate fined littlejohn traveling without pass condemning john wesley describing methodist preachers baltimore early littlejohn described feeling fatherless child abandoned friends due preaching refusal military service despite sympathies beyond littlejohn methodist preachers actively supported revolutionary movement due prevailing pacifism littlejohn cautioned fellow methodist preachers judging revolutionaries writing july willing defend rights power religion others i met side repression intensified fighting maryland increased many circuit riders ceasing travel fear harassment interrogation the act better security government passed december maryland legislature required oath allegiance state government free men eighteen barring refused various professions including preaching law public service the law additionally issued tax rejectors property similar requirements oath also passed delaware pennsylvania when asked take oath methodist colonel littlejohn supplied draft separate oath would agree adhere despite urging friends refused swear oath state one twenty preachers indicted single october case annapolisbased general court western among eleven methodist preachers listed summons general court able evade attendance the itinerant nature preachers meant many simply left jurisdiction trials could progress the courts unpopularity led jurors witnesses refusing make journey preferring local courts refusing summons annapolis issued additionally increasing popularity methodism marylandc led juries refusing indict attempted repression circuit riders lightened war continued lower courts seldom indicting preachers maryland methodists officially exempted oath requirements bans preaching act maryland general assembly november promoted probationary full membership methodist conference may while regarding temptation considered settling since early career although received negative response prospect preacher george shadford in june met bishop francis asbury delaware asked locating littlejohn instead sent asbury return baltimore letters sent various methodists cautioned locating one settled preacher expressing deep regret he generally alarmed response fellow preachers decided continue traveling he met mother baltimore threatened disown stop itinerant preaching return england littlejohn refused traveled august propose monica talbott daughter fairfax methodist first met several years monica initially refused advances asking affections abandoned staying talbott residence following day due storm littlejohn able eventually convince monica marry when appointed circuit ride maryland littlejohn declined considering improper married known rev mr littlejohn finish saddle preside bench magistrate preach funeral sermon baptize child perform marriage ceremony daycol armistead thomson littlejohn monica married december settling leesburg loudoun county virginia would serve local preacher next three decades while preaching generally bound specific church traveling local area serve baptisms weddings funerals he continued employment trades order supply family including twins born september well monicas two sisters staying many friends leesburg known prior norfolk migrated north due wartime conditions following birth children rumors monetary problems led offer anglican planter bryan fairfax promising ordination within church england material benefits glebe return assuming responsibility two local parishes littlejohn refused continued positive relations anglican church despite official denominational separation following formation independent methodist church december addition becoming wellestablished local preacher littlejohn served various civil positions including county magistrate sheriff during war served tax collector twentysecond district virginia collecting series federal property taxes levied following wartime resumption federal taxation these levied continued nominal tax collector moving kentucky british sack washington august federal government evacuated national archives including crucial founding documents declaration independence constitution bill stephen pleasonton treasury department official tasked protecting documents initially hid inside alexandria county gristmill adjacent chain bridge a nearby armament foundry prompted fears british attack archives moved west vacant house adjacent leesburg local sources traditionally cited rokeby although historians proposed location another vacant house within leesburg on august day following british capture washington littlejohn given keys home tasked supervising littlejohn supervised documents two weeks collected returned washington following british property divide among children inheritance littlejohn family purchased land departed leesburg kentucky early september on october littlejohn wife arrived boat louisville delays due low water meeting son thomas arrived several weeks earlier various household upon discovering louisville residents raising money reward preaching town wrote begged might stopted i could think prostrating charrecter local methodist preecher littlejohn refused offer stationed preacher from littlejohn traveled christian county discovered land acquired fellow methodist unsuitable farming falsely advertised the family instead settled warren county near bowling green son john purchased additional briefly returned leesburg make trips washington city georgetown conducted six marriages less two months his host leesburg connected contacts virginia littlejohn hired serve land agent kentucky upon returning family december moved logan county site red river later identified unincorporated community traveling within southwestern kentucky continued preach simultaneously serving land agent he embarked another journey february april traveling louisville bluegrass land inspection business staying various family business contacts traveled loop throughout region he visited lexington state capital frankfort various smaller bluegrass settlements he frequently lodged bourbon county stayed colonel moved area loudoun county littlejohn late sixties continued work land agent throughout splitting time itinerant preaching attending land auctions assessing quality boundaries land tracts he additionally made money charging fees marriage ceremonies following theft prized horse littlejohn tracked animal across kentucky indiana eventually recovering littlejohn died january buried russellville their son lewis died august leaving behind young daughter captain hunter business contact littlejohn franklin county took girl in june littlejohn arrived preached old hometown leesburg staying may attending methodist general conference washington here granted readmission superannuated preacher original baltimore although returned kentucky conference despite previous opposition practice littlejohn purchased several slaves old age the census recorded household seven slaves including two littlejohn died home logan county may possibly cholera buried russellville graveyard an obituary later published minutes annual conferences methodist episcopal littlejohns death preceded children except john died following year age most littlejohns estate willed son john granddaughter catherine however three granddaughters inherited one slave john received two enslaved boys each slave prescribed manumitted age gravesite fallen disrepair prompting kentucky historical society partner local methodist congregation restore site new gravestone carved local methodist bishop roy short louisville methodist conference held group prayer dedication new gravestone october in october logan county garden club kentucky historical society unveiled historical marker mark\n"
     ]
    }
   ],
   "source": [
    "import requests\n",
    "from bs4 import BeautifulSoup\n",
    "from time import sleep\n",
    "\n",
    "URL = \"https://en.wikipedia.org/wiki/John_Littlejohn_(preacher)\"\n",
    "page = requests.get(URL)\n",
    "soup = BeautifulSoup(page.content, 'html.parser')\n",
    "\n",
    "text = ''\n",
    "\n",
    "# Find all <p> elements and print their text\n",
    "for paragraph in soup.find_all('p'):\n",
    "    text += paragraph.get_text()\n",
    "\n",
    "# processed_text = ' '.join(preprocessed_text(text))\n",
    "print(preprocess_text(text))\n",
    "    "
   ]
  }
 ],
 "metadata": {
  "kernelspec": {
   "display_name": "base",
   "language": "python",
   "name": "python3"
  },
  "language_info": {
   "codemirror_mode": {
    "name": "ipython",
    "version": 3
   },
   "file_extension": ".py",
   "mimetype": "text/x-python",
   "name": "python",
   "nbconvert_exporter": "python",
   "pygments_lexer": "ipython3",
   "version": "3.11.5"
  }
 },
 "nbformat": 4,
 "nbformat_minor": 2
}
